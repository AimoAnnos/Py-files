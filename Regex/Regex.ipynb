{
 "cells": [
  {
   "cell_type": "markdown",
   "metadata": {},
   "source": [
    "#### Regex juttui\n"
   ]
  },
  {
   "cell_type": "code",
   "execution_count": null,
   "metadata": {},
   "outputs": [],
   "source": [
    "# tehtävä 1\n",
    "# Write a Python program to check that a string contains only a certain set of characters (in this case a-z, A-Z and 0-9).\n",
    "\n",
    "import re\n",
    "\n",
    "allowed_text = 'ABCDEFabcdef123450'\n",
    "disallowed_text = '*&%@#!}{'\n",
    "\n",
    "#testaa = re.compile(r'[^a-zA-Z0-9]')\n",
    "word_char = re.compile(r'\\w')\n",
    "not_word_char = re.compile(r'\\W')\n",
    "\n",
    "matches = word_char.finditer(allowed_text)\n",
    "\n",
    "for match in matches:\n",
    "    print(match)\n",
    "\n",
    "matches = not_word_char.finditer(disallowed_text)\n",
    "\n",
    "for match in matches:\n",
    "    print(match)\n"
   ]
  },
  {
   "cell_type": "code",
   "execution_count": 162,
   "metadata": {},
   "outputs": [
    {
     "name": "stdout",
     "output_type": "stream",
     "text": [
      "Khyä!\n",
      "Nope!\n"
     ]
    }
   ],
   "source": [
    "# Tehtävä 1 funktiolla\n",
    "import re\n",
    "def is_allowed(str):\n",
    "    #pattern = re.compile(r'[^a-zA-Z0-9]')  # ^= matches not in a-z, A-z, 0-9\n",
    "    pattern = re.compile(r'[^\\w]') # \\w = word character\n",
    "    str = pattern.search(str)\n",
    "    #return not bool(str) # ^ ja not bool = kaiksoiskääteinen -> true: tarvitaan kaksoiskäänteinen koska muuten hyväksyy esim ABC////// jos .search() löytää sallitun char \n",
    "    if not bool(str) == True:\n",
    "        print(\"Khyä!\")\n",
    "    else:\n",
    "        print(\"Nope!\")\n",
    "\n",
    "is_allowed(\"ABCDEFabcdef123450\")\n",
    "is_allowed(\"*&%@#!}{\")\n",
    "\n",
    "\n"
   ]
  },
  {
   "cell_type": "code",
   "execution_count": 196,
   "metadata": {},
   "outputs": [
    {
     "name": "stdout",
     "output_type": "stream",
     "text": [
      "Mätsää\n",
      "Nope\n"
     ]
    }
   ],
   "source": [
    "is_allowed(\"ABCDEFabcdef12345\")\n",
    "is_allowed(\"*&%@#!}{\")"
   ]
  },
  {
   "cell_type": "code",
   "execution_count": 166,
   "metadata": {},
   "outputs": [
    {
     "name": "stdout",
     "output_type": "stream",
     "text": [
      "Mätsää\n",
      "Nope\n"
     ]
    }
   ],
   "source": [
    "# toinen versio (ei toimi kunnolla because reasons..)\n",
    "\n",
    "def is_allowed(str):\n",
    "    patern = re.compile(r'[\\w]')  # = matches in a-z, A-z, 0-9\n",
    "    str = patern.search(str) # käytä fullmatch hakuun?? tai not bool\n",
    "    #return bool(str)\n",
    "    if bool(str) == True:\n",
    "        print(\"Mätsää\")\n",
    "    else:\n",
    "        print(\"Nope\")\n",
    "\n",
    "is_allowed(\"ABCDEFabcdef12345\")\n",
    "is_allowed(\"*&%@#!}{\")\n",
    "\n",
    "\n"
   ]
  },
  {
   "cell_type": "code",
   "execution_count": 103,
   "metadata": {},
   "outputs": [
    {
     "name": "stdout",
     "output_type": "stream",
     "text": [
      "Nope\n"
     ]
    }
   ],
   "source": [
    "# T2, Write a Python program that matches a string that has an a followed by zero or more b's\n",
    "\n",
    "def is_match(text):\n",
    "    pattern = re.compile(r'^a(b*)$')\n",
    "    text = pattern.match(text)  # toimii myös .search() ja .finditer() ??\n",
    "    #return bool(text)\n",
    "    if bool(text): # == True:\n",
    "        print(\"Mätsää\")\n",
    "    else:\n",
    "        print(\"Nope\")\n",
    "\n",
    "is_match('bbbb')"
   ]
  },
  {
   "cell_type": "code",
   "execution_count": 2,
   "metadata": {},
   "outputs": [
    {
     "name": "stdout",
     "output_type": "stream",
     "text": [
      "Mätsää\n"
     ]
    }
   ],
   "source": [
    "# T3, Write a Python program that matches a string that has an a followed by one or more b's\n",
    "import re\n",
    "def ab_match(text):\n",
    "    #pattern = re.compile(r'^a(b*)$') # väärin\n",
    "    pattern = re.compile(r'ab+?')\n",
    "    text = pattern.search(text)\n",
    "    if bool(text) == True:\n",
    "        print(\"Mätsää\")\n",
    "    else:\n",
    "        print(\"Njet\")\n",
    "    \n",
    "ab_match('abbbbb')"
   ]
  },
  {
   "cell_type": "code",
   "execution_count": 187,
   "metadata": {},
   "outputs": [
    {
     "name": "stdout",
     "output_type": "stream",
     "text": [
      "Mätsää\n"
     ]
    }
   ],
   "source": [
    "# T4, Write a Python program that matches a string that has an a followed by zero or one 'b'\n",
    "\n",
    "def ab_match(text):\n",
    "    pattern = re.compile(r'ab*?')\n",
    "    text = pattern.search(text)\n",
    "    if bool(text) == True:\n",
    "        print(\"Mätsää\")\n",
    "    else:\n",
    "        print(\"Nejnöy\")\n",
    "\n",
    "ab_match(\"abbb\")"
   ]
  },
  {
   "cell_type": "code",
   "execution_count": 198,
   "metadata": {},
   "outputs": [
    {
     "name": "stdout",
     "output_type": "stream",
     "text": [
      "Mätsää\n"
     ]
    }
   ],
   "source": [
    "# T5, Write a Python program that matches a string that has an a followed by three 'b'\n",
    "\n",
    "def abbb_match(text):\n",
    "    pattern = re.compile(r'ab{3}')\n",
    "    text = pattern.search(text)\n",
    "    if bool(text) == True:\n",
    "        print(\"Mätsää\")\n",
    "    else:\n",
    "        print(\"Nejnöy\")\n",
    "\n",
    "abbb_match(\"abbbbbbbb\")"
   ]
  },
  {
   "cell_type": "code",
   "execution_count": 3,
   "metadata": {},
   "outputs": [
    {
     "name": "stdout",
     "output_type": "stream",
     "text": [
      "Mätsää\n"
     ]
    }
   ],
   "source": [
    "# T6, Write a Python program that matches a string that has an a followed by two to three 'b'\n",
    "\n",
    "def abbb_match(text):\n",
    "    pattern = re.compile(r'ab{2,3}')\n",
    "    text = pattern.search(text)\n",
    "    if bool(text) == True:\n",
    "        print(\"Mätsää\")\n",
    "    else:\n",
    "        print(\"Nejnöy\")\n",
    "\n",
    "abbb_match(\"abbbbb\")"
   ]
  },
  {
   "cell_type": "code",
   "execution_count": 13,
   "metadata": {},
   "outputs": [
    {
     "name": "stdout",
     "output_type": "stream",
     "text": [
      "Mätsää\n"
     ]
    }
   ],
   "source": [
    "# T7, Write a Python program to find sequences of lowercase letters joined with a underscore.\n",
    "\n",
    "def lower_(text):\n",
    "    pattern = re.compile(r'^[a-z]+_[a-z]+$')  # ^[\\w]+_[\\w] - ei kelpaa koska hyväksyy capsit\n",
    "    text = pattern.search(text)\n",
    "    if bool(text) == True:\n",
    "        print(\"Mätsää\")\n",
    "    else:\n",
    "        print(\"Nejnöy\")\n",
    "\n",
    "lower_(\"aaaa_bb\")"
   ]
  },
  {
   "cell_type": "code",
   "execution_count": 19,
   "metadata": {},
   "outputs": [
    {
     "name": "stdout",
     "output_type": "stream",
     "text": [
      "Mätsää\n"
     ]
    }
   ],
   "source": [
    "# T8, Write a Python program to find the sequences of one upper case letter followed by lower case letters.\n",
    "\n",
    "def upper_lower(text):\n",
    "    pattern = re.compile(r'[A-Z]+[a-z]+$')\n",
    "    text = pattern.search(text)\n",
    "    if bool(text) == True:\n",
    "        print(\"Mätsää\")\n",
    "    else:\n",
    "        print(\"Nejnöy\")\n",
    "\n",
    "upper_lower(\"Aabbb\")"
   ]
  }
 ],
 "metadata": {
  "interpreter": {
   "hash": "29a37d8cef3aaa6abdc6999b9d36fcff9de87d77d7c29e05fa58cfbd4665079a"
  },
  "kernelspec": {
   "display_name": "Python 3.8.7 64-bit",
   "language": "python",
   "name": "python3"
  },
  "language_info": {
   "codemirror_mode": {
    "name": "ipython",
    "version": 3
   },
   "file_extension": ".py",
   "mimetype": "text/x-python",
   "name": "python",
   "nbconvert_exporter": "python",
   "pygments_lexer": "ipython3",
   "version": "3.8.7"
  },
  "orig_nbformat": 4
 },
 "nbformat": 4,
 "nbformat_minor": 2
}

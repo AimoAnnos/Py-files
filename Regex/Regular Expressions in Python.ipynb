{
 "cells": [
  {
   "cell_type": "markdown",
   "metadata": {},
   "source": [
    "# Regular Expressions in Python"
   ]
  },
  {
   "cell_type": "markdown",
   "metadata": {},
   "source": [
    "<br>Regular expressions are used to search and match specific patterns of text.<br>\n",
    "Sometimes \"regex\" word is also used.<br>\n",
    "Regular expressions may look very complicated but are very powerful.<br><br>\n",
    "NOTE: In examples below, <b>.finditer</b> method is widely used.<br>\n",
    "There's also other usable methods, some of which are presented last in this document<br><br>\n",
    "There's a built-in Python module called <b>re</b><br>\n",
    "To use it, simply import it:"
   ]
  },
  {
   "cell_type": "code",
   "execution_count": null,
   "metadata": {},
   "outputs": [],
   "source": [
    "import re"
   ]
  },
  {
   "cell_type": "markdown",
   "metadata": {},
   "source": [
    "In the following code example there's a very long text and a shorter, normal sentence to test regular expressions with:"
   ]
  },
  {
   "cell_type": "code",
   "execution_count": null,
   "metadata": {},
   "outputs": [],
   "source": [
    "import re\n",
    "text_to_search = '''\n",
    "abcdefghijklmnopqrstuvwxyz\n",
    "ABCDEFGHIJKLMNOPQRSTUVWXYZ\n",
    "1234567890\n",
    "\n",
    "Ha HaHa\n",
    "\n",
    "MetaCharacters (Needs to be escaped):\n",
    ". ^ $ * + ? { }  [ ] \\ ( ) \n",
    "\n",
    "taitotalo.fi\n",
    "\n",
    "010-80-80-90\n",
    "800-80-80-90\n",
    "900-80-80-90\n",
    "010*12*34*56\n",
    "\n",
    "cat\n",
    "hat\n",
    "bat\n",
    "rat\n",
    "abc\n",
    "\n",
    "Dr. Jones\n",
    "Mr. Anderson\n",
    "Mrs. Robinson\n",
    "Mr. Mister\n",
    "'''\n",
    "\n",
    "example_sentence = 'And here\\'s to you, Mrs. Robinson'"
   ]
  },
  {
   "cell_type": "markdown",
   "metadata": {},
   "source": [
    "### Raw strings in Python"
   ]
  },
  {
   "cell_type": "markdown",
   "metadata": {},
   "source": [
    "In code example above, there's these MetaCharacters, that needs to be escaped with <b>\\\\</b> (backslash) sign if we want to use them.<br>\n",
    "For example if we want to print '\\n means newline in many programming languages',<br> we have to write our code like this to escape the backslash-character:<br>"
   ]
  },
  {
   "cell_type": "code",
   "execution_count": null,
   "metadata": {},
   "outputs": [],
   "source": [
    "print ('\\\\n means newline in many programming languages')\n",
    "print('\\n means newline in many programming languages. Here the escape is not handled and new line is generated')"
   ]
  },
  {
   "cell_type": "markdown",
   "metadata": {},
   "source": [
    "However, there's also a raw string option in Python (starting print-statement with <b>r</b>, which allows to *literally* write strings with special characters directly:<br>"
   ]
  },
  {
   "cell_type": "code",
   "execution_count": null,
   "metadata": {},
   "outputs": [],
   "source": [
    "print(r'\\n means newline in many programming languages')"
   ]
  },
  {
   "cell_type": "markdown",
   "metadata": {},
   "source": [
    "### Finding all occurrences of certain (sub)string in string:"
   ]
  },
  {
   "cell_type": "code",
   "execution_count": null,
   "metadata": {},
   "outputs": [],
   "source": [
    "pattern = re.compile(r'abc')\n"
   ]
  },
  {
   "cell_type": "markdown",
   "metadata": {},
   "source": [
    "<b>re.compile(pattern, flags=0)</b><br>\n",
    "Compile a regular expression pattern into a regular expression object, <br>which can be used for matching using its match(), search() and <br>other methods.<br>\n",
    "The expression’s behaviour can be modified by specifying a flags value.<br> Values can be any of the following variables, combined using bitwise OR (the | operator).<br>"
   ]
  },
  {
   "cell_type": "code",
   "execution_count": null,
   "metadata": {},
   "outputs": [],
   "source": [
    "#Example of finding all occurrences of 'abc'-word:\n",
    "import re\n",
    "pattern = re.compile(r'abc')\n",
    "\n",
    "matches = pattern.finditer(text_to_search)\n",
    "\n",
    "for match in matches:\n",
    "    print(match) #Notice case-sensitivity in 'abc',not including 'ABC'\n"
   ]
  },
  {
   "cell_type": "markdown",
   "metadata": {},
   "source": [
    "So the print above finds only one occurrence and <br>generates the following result:<br><br>\n",
    "<re.Match object; span=(1, 4), match='abc'><br><br>\n",
    "Here the span tells us where the start (inclusive) and end (exclusive) <br>of a string we'are trying to find, is.<br>\n",
    "\n"
   ]
  },
  {
   "cell_type": "code",
   "execution_count": null,
   "metadata": {},
   "outputs": [],
   "source": [
    "#We can confirm the statement above:\n",
    "print(text_to_search[1:4])"
   ]
  },
  {
   "cell_type": "markdown",
   "metadata": {},
   "source": [
    "# Python regular exception snippets"
   ]
  },
  {
   "cell_type": "markdown",
   "metadata": {},
   "source": [
    ".         - Any character except new line<br>\n",
    "\\d        - digit (0-9)<br>\n",
    "\\D        - Not a digit<br>\n",
    "\\w        - Word character (a-z, A-Z, 0-9, _ )<br>\n",
    "\\W        - Not a Word character<br>\n",
    "\\s        - Whitespace (space, tab, newline)<br>\n",
    "\\S        - Not Whitespace<br>\n",
    "<br>\n",
    "\\b        - Word boundary<br> # If first in line, first occurrence is included<br># Otherwise, returns first occurrence of (sub)string in string<br>\n",
    "\\B        - Not Word boundary<br>\n",
    "^         - Beginning of a String<br>\n",
    "$         - End of a String<br>\n",
    "<br>\n",
    "[]        - Matches characters in brackets<br>\n",
    "[^]       - Matches characters Not in brackets<br>\n",
    "|         - Either or<br>\n",
    "( )       - Group<br>\n"
   ]
  },
  {
   "cell_type": "markdown",
   "metadata": {},
   "source": [
    "### Some examples"
   ]
  },
  {
   "cell_type": "code",
   "execution_count": null,
   "metadata": {},
   "outputs": [],
   "source": [
    "# Example 1; Desired output is to print all digits:\n",
    "pattern = re.compile(r'\\d')\n",
    "\n",
    "matches = pattern.finditer(text_to_search)\n",
    "\n",
    "for match in matches:\n",
    "    print(match)"
   ]
  },
  {
   "cell_type": "markdown",
   "metadata": {},
   "source": [
    "Example 2: Find out if a sentence starts with word 'And':"
   ]
  },
  {
   "cell_type": "code",
   "execution_count": 18,
   "metadata": {},
   "outputs": [
    {
     "name": "stdout",
     "output_type": "stream",
     "text": [
      "<re.Match object; span=(0, 3), match='And'>\n"
     ]
    }
   ],
   "source": [
    "pattern = re.compile(r'^And')\n",
    "\n",
    "matches = pattern.finditer(example_sentence)\n",
    "\n",
    "for match in matches:\n",
    "    print(match)"
   ]
  },
  {
   "cell_type": "markdown",
   "metadata": {},
   "source": [
    "Example 3: Find out if a sentence ends with word 'Robinson':"
   ]
  },
  {
   "cell_type": "code",
   "execution_count": 20,
   "metadata": {},
   "outputs": [
    {
     "name": "stdout",
     "output_type": "stream",
     "text": [
      "<re.Match object; span=(24, 32), match='Robinson'>\n"
     ]
    }
   ],
   "source": [
    "pattern = re.compile(r'Robinson$')\n",
    "\n",
    "matches = pattern.finditer(example_sentence)\n",
    "\n",
    "for match in matches:\n",
    "    print(match)"
   ]
  },
  {
   "cell_type": "code",
   "execution_count": 21,
   "metadata": {},
   "outputs": [
    {
     "name": "stdout",
     "output_type": "stream",
     "text": [
      "<re.Match object; span=(67, 69), match='Ha'>\n",
      "<re.Match object; span=(70, 72), match='Ha'>\n"
     ]
    }
   ],
   "source": [
    "pattern = re.compile(r'\\bHa')\n",
    "\n",
    "matches = pattern.finditer(text_to_search)\n",
    "\n",
    "for match in matches:\n",
    "    print(match)"
   ]
  },
  {
   "cell_type": "markdown",
   "metadata": {},
   "source": [
    "Example 4 (this is a bit odd): Find out the(first) occurrences of word 'Ha' bound to a word"
   ]
  },
  {
   "cell_type": "markdown",
   "metadata": {},
   "source": [
    "### Practical examples, real-life use"
   ]
  },
  {
   "cell_type": "markdown",
   "metadata": {},
   "source": [
    "The power of regular expression lies when combining the snippets.<br>\n",
    "This way the user can create whatever expressions.<br>"
   ]
  },
  {
   "cell_type": "markdown",
   "metadata": {},
   "source": [
    "Find out all phone numbers using format xxx-xx-xx-xx (010-80-80-90):<br>\n",
    "Here the existence of '-'' is not strictly checked, <br>\n",
    "but instead checking if there's any character between the digits:"
   ]
  },
  {
   "cell_type": "code",
   "execution_count": 22,
   "metadata": {},
   "outputs": [
    {
     "name": "stdout",
     "output_type": "stream",
     "text": [
      "<re.Match object; span=(157, 169), match='010-80-80-90'>\n",
      "<re.Match object; span=(170, 182), match='800-80-80-90'>\n",
      "<re.Match object; span=(183, 195), match='900-80-80-90'>\n",
      "<re.Match object; span=(196, 208), match='010*12*34*56'>\n"
     ]
    }
   ],
   "source": [
    "\n",
    "pattern = re.compile(r'\\d\\d\\d.\\d\\d.\\d\\d.\\d\\d')\n",
    "matches = pattern.finditer(text_to_search)\n",
    "\n",
    "for match in matches:\n",
    "    print(match)\n",
    "    \n",
    "# Notice that there's even better real-life example of this below in\n",
    "# 'Quantifiers' section. "
   ]
  },
  {
   "cell_type": "markdown",
   "metadata": {},
   "source": [
    "In case we only want to show phone numbers with '-' -dashes;<br>\n",
    "we can use so called character sets using [] square brackets.<br>"
   ]
  },
  {
   "cell_type": "code",
   "execution_count": null,
   "metadata": {},
   "outputs": [],
   "source": [
    "pattern = re.compile(r'\\d\\d\\d[-]\\d\\d[-]\\d\\d[-]\\d\\d')\n",
    "matches = pattern.finditer(text_to_search)\n",
    "\n",
    "for match in matches:\n",
    "    print(match)"
   ]
  },
  {
   "cell_type": "markdown",
   "metadata": {},
   "source": [
    "Inside character set can be multiple characters, <br>\n",
    "which would all be accepted. <br>\n",
    "For example, if in addition to <b>-</b> dashes; <b>*</b> stars would also be valid:"
   ]
  },
  {
   "cell_type": "code",
   "execution_count": null,
   "metadata": {},
   "outputs": [],
   "source": [
    "pattern = re.compile(r'\\d\\d\\d[-*]\\d\\d[-*]\\d\\d[-*]\\d\\d')\n",
    "matches = pattern.finditer(text_to_search)\n",
    "\n",
    "for match in matches:\n",
    "    print(match)\n",
    "\n",
    "# Notice that inside brackets there is no need for adding \\ backslash"
   ]
  },
  {
   "cell_type": "markdown",
   "metadata": {},
   "source": [
    "In case we want to parse only phone numbers starting with '800' or '900':"
   ]
  },
  {
   "cell_type": "code",
   "execution_count": null,
   "metadata": {},
   "outputs": [],
   "source": [
    "pattern = re.compile(r'[89]00[-]\\d\\d[-*]\\d\\d[-*]\\d\\d')\n",
    "matches = pattern.finditer(text_to_search)\n",
    "\n",
    "for match in matches:\n",
    "    print(match)"
   ]
  },
  {
   "cell_type": "markdown",
   "metadata": {},
   "source": [
    "### Dash also indicating a range"
   ]
  },
  {
   "cell_type": "markdown",
   "metadata": {},
   "source": [
    "When '-' dash is alone or with some searchable character(s) in character set,<br> \n",
    "it acts like searching the dash, but _between_ values or characters<br>\n",
    "it defines <b>range</b>:"
   ]
  },
  {
   "cell_type": "markdown",
   "metadata": {},
   "source": [
    "Here the first digit must be between 6 and 9:"
   ]
  },
  {
   "cell_type": "code",
   "execution_count": null,
   "metadata": {},
   "outputs": [],
   "source": [
    "pattern = re.compile(r'[6-9]\\d\\d[-*]\\d\\d[-*]\\d\\d') \n",
    "matches = pattern.finditer(text_to_search)\n",
    "\n",
    "for match in matches:\n",
    "    print(match)"
   ]
  },
  {
   "cell_type": "markdown",
   "metadata": {},
   "source": [
    "Here the first letter of sentence must be between a and i\n",
    "or with capital letter between A and I"
   ]
  },
  {
   "cell_type": "markdown",
   "metadata": {},
   "source": [
    "pattern = re.compile(r'^[a-iA-I]')\n",
    "matches = pattern.finditer(example_sentence)\n",
    "\n",
    "for match in matches:\n",
    "    print(match)"
   ]
  },
  {
   "cell_type": "markdown",
   "metadata": {},
   "source": [
    "### Caret inside character set negates the search"
   ]
  },
  {
   "cell_type": "markdown",
   "metadata": {},
   "source": [
    "In previous example, a <b>^</b> caret was outside the character set and as told before,<br> it searches from the beginning.<br><br>\n",
    "However, when _inside_ a character set, a caret negates the search<br>\n",
    "so that the search ignores all characters inside the character set:"
   ]
  },
  {
   "cell_type": "markdown",
   "metadata": {},
   "source": [
    "Print out all example_sentence characters that are not between a and i or A and I in alphabet:"
   ]
  },
  {
   "cell_type": "code",
   "execution_count": null,
   "metadata": {},
   "outputs": [],
   "source": [
    "pattern = re.compile(r'[^a-iA-I]')\n",
    "matches = pattern.finditer(example_sentence)\n",
    "\n",
    "for match in matches:\n",
    "    print(match)"
   ]
  },
  {
   "cell_type": "markdown",
   "metadata": {},
   "source": [
    "How to not include hat, but include cat, rat and bat:\n",
    "We negate the character 'h' and tell 'at' must come after first char:"
   ]
  },
  {
   "cell_type": "code",
   "execution_count": null,
   "metadata": {},
   "outputs": [],
   "source": [
    "pattern = re.compile(r'[^h]at')\n",
    "matches = pattern.finditer(text_to_search)\n",
    "\n",
    "for match in matches:\n",
    "    print(match)"
   ]
  },
  {
   "cell_type": "markdown",
   "metadata": {},
   "source": [
    "# Quantifiers"
   ]
  },
  {
   "cell_type": "markdown",
   "metadata": {},
   "source": [
    "\\*       0 or more<br>\n",
    "\\+       1 or more<br>\n",
    "\\?       0 or one<br>\n",
    "{3}      exact number<br>\n",
    "{3,4}    range of numbers (min, max)<br"
   ]
  },
  {
   "cell_type": "markdown",
   "metadata": {},
   "source": [
    "Back to our phone number example; we can now specify how many numbers we want:"
   ]
  },
  {
   "cell_type": "code",
   "execution_count": null,
   "metadata": {},
   "outputs": [],
   "source": [
    "# old way:\n",
    "#pattern = re.compile(r'\\d\\d\\d.\\d\\d.\\d\\d.\\d\\d')\n",
    "\n",
    "#with quantifiers:\n",
    "pattern = re.compile(r'\\d{3}.\\d{2}.\\d{2}.\\d{2}')\n",
    "matches = pattern.finditer(text_to_search)\n",
    "\n",
    "for match in matches:\n",
    "    print(match)"
   ]
  },
  {
   "cell_type": "markdown",
   "metadata": {},
   "source": [
    "Here is some names from our text_to_search -string:<br>\n",
    "Dr. Jones<br>\n",
    "Mr. Anderson<br>\n",
    "Mrs. Robinson<br>\n",
    "Mr. Mister<br>"
   ]
  },
  {
   "cell_type": "markdown",
   "metadata": {},
   "source": [
    "Let's say we want to include all that begin with Mr with or without\n",
    "dot after the prefix.<br> \n",
    "Now we can use <b>?</b> for '0 or One':"
   ]
  },
  {
   "cell_type": "code",
   "execution_count": null,
   "metadata": {},
   "outputs": [],
   "source": [
    "pattern = re.compile(r'Mr\\.?') # Notice the \\ for . as escape char\n",
    "matches = pattern.finditer(text_to_search)\n",
    "\n",
    "for match in matches:\n",
    "    print(match)\n",
    "\n",
    "#Notice that we are not including any Mrs here, only Mr"
   ]
  },
  {
   "cell_type": "markdown",
   "metadata": {},
   "source": [
    "Same as above, but now including also whitespace and capital letter in last name:"
   ]
  },
  {
   "cell_type": "code",
   "execution_count": null,
   "metadata": {},
   "outputs": [],
   "source": [
    "pattern = re.compile(r'Mr\\.?\\s[A-Z]\\w*') \n",
    "matches = pattern.finditer(text_to_search)\n",
    "\n",
    "for match in matches:\n",
    "    print(match)"
   ]
  },
  {
   "cell_type": "markdown",
   "metadata": {},
   "source": [
    "### Groupings"
   ]
  },
  {
   "cell_type": "markdown",
   "metadata": {},
   "source": [
    "Groups come in handy, when we want to for example; use the <b>|</b> or -syntax.<br>\n",
    "Groupings are made inside <b>()</b>-brackets"
   ]
  },
  {
   "cell_type": "markdown",
   "metadata": {},
   "source": [
    "Include all that begin with Mr, Ms, or Mrs:"
   ]
  },
  {
   "cell_type": "code",
   "execution_count": null,
   "metadata": {},
   "outputs": [],
   "source": [
    "pattern = re.compile(r'M(r|s|rs)\\.?\\s[A-Z]\\w*')\n",
    "#this works also:\n",
    "#pattern = re.compile(r'(Mr|Ms|Mrs)\\.?\\s[A-Z]\\w*')\n",
    "matches = pattern.finditer(text_to_search)\n",
    "\n",
    "for match in matches:\n",
    "    print(match)"
   ]
  },
  {
   "cell_type": "markdown",
   "metadata": {},
   "source": [
    "### Exercises"
   ]
  },
  {
   "cell_type": "markdown",
   "metadata": {},
   "source": [
    "- Create an Email validity checker:<br><br>\n",
    "Here's some valid sample email addresses:<br>\n",
    "teacher@taitotalo.fi<br>\n",
    "firstname.lastname@taitotalo.info<br>\n",
    "ict-teacher-777@taitotalo-server.net<br>"
   ]
  },
  {
   "cell_type": "code",
   "execution_count": null,
   "metadata": {},
   "outputs": [],
   "source": [
    "import re\n",
    "emails = '''\n",
    "teacher@taitotalo.fi\n",
    "first.last@taitotalo.info\n",
    "ict-teacher-777@taito-server.net\n",
    "'''\n",
    "pattern = re.compile(r'[a-zA-Z0-9_.+-]+@[a-zA-Z0-9-]+\\.[a-zA-Z0-9-.]+')\n",
    "matches = pattern.finditer(emails)\n",
    "for match in matches:\n",
    "    print(match)"
   ]
  },
  {
   "cell_type": "markdown",
   "metadata": {},
   "source": [
    "- Create www-page parser:<br><br>\n",
    "Valid page address formats:\n",
    "\n",
    "https://www.google.com<br>\n",
    "https://youtube.com<br>\n",
    "https://www.nasa.gov<br>\n",
    "http://linkedin.com<br>\n",
    "\n",
    "\n",
    "\n",
    "        \n",
    "\n"
   ]
  },
  {
   "cell_type": "code",
   "execution_count": null,
   "metadata": {},
   "outputs": [],
   "source": [
    "import re\n",
    "urls = '''\n",
    "http://www.google.com\n",
    "https://youtube.com\n",
    "http://www.nasa.gov\n",
    "http://linkedin.com\n",
    "'''\n",
    "pattern = re.compile(r'(https?://(www\\.)?(\\w+)(\\.\\w+))')\n",
    "matches = pattern.finditer(urls)\n",
    "for match in matches:\n",
    "    print(match)"
   ]
  },
  {
   "cell_type": "markdown",
   "metadata": {},
   "source": [
    "There's an option to parse the pattern using <b>.group</b>."
   ]
  },
  {
   "cell_type": "code",
   "execution_count": null,
   "metadata": {},
   "outputs": [],
   "source": [
    "import re\n",
    "urls = '''\n",
    "http://www.google.com\n",
    "https://youtube.com\n",
    "http://www.nasa.gov\n",
    "http://linkedin.com\n",
    "'''\n",
    "pattern = re.compile(r'https?://(www\\.)?(\\w+)(\\.\\w+)')\n",
    "matches = pattern.finditer(urls)\n",
    "for match in matches:\n",
    "    #print(match.group(0)) # 0 here prints everything \n",
    "    #print(match.group(1)) #prints www. None www. None\n",
    "    print(match.group(2)) # prints google youtube nasa linkedin\n",
    "    #print(match.group(3))  #prints .com .com .gov .com"
   ]
  },
  {
   "cell_type": "markdown",
   "metadata": {},
   "source": [
    "There's also a <b>sub</b> method which can be used as a shortcut doing the same thing:"
   ]
  },
  {
   "cell_type": "code",
   "execution_count": null,
   "metadata": {},
   "outputs": [],
   "source": [
    "import re\n",
    "urls = '''\n",
    "http://www.google.com\n",
    "https://youtube.com\n",
    "http://www.nasa.gov\n",
    "http://linkedin.com\n",
    "'''\n",
    "pattern = re.compile(r'https?://(www\\.)?(\\w+)(\\.\\w+)')\n",
    "subbed_urls = pattern.sub(r'\\2\\3', urls)\n",
    "print(subbed_urls) #www.google.com youtube.com nasa.gov linkedin.com"
   ]
  },
  {
   "cell_type": "markdown",
   "metadata": {},
   "source": [
    "## Other methods (than .finditer )"
   ]
  },
  {
   "cell_type": "markdown",
   "metadata": {},
   "source": [
    "Depending on the purpose, the method used should be considered.<br><br>\n",
    "<b>.findall</b> returns the matches as a list of strings instead of objects (as in .finditer) IF there is no groups.<br>\n",
    "If there are groups, it will ONLY return the groups:"
   ]
  },
  {
   "cell_type": "code",
   "execution_count": null,
   "metadata": {},
   "outputs": [],
   "source": [
    "#Not so usable here, because of groups\n",
    "import re\n",
    "urls = '''\n",
    "http://www.google.com\n",
    "https://youtube.com\n",
    "http://www.nasa.gov\n",
    "http://linkedin.com\n",
    "'''\n",
    "pattern = re.compile(r'http://(www\\.)(\\w+)(\\.\\w+)')\n",
    "matches = pattern.findall(urls)\n",
    "for match in matches:\n",
    "    print(match)"
   ]
  },
  {
   "cell_type": "code",
   "execution_count": null,
   "metadata": {
    "scrolled": true
   },
   "outputs": [],
   "source": [
    "#More usable here\n",
    "import re\n",
    "phone_numbers = '''\n",
    "010-80-80-90\n",
    "800-80-80-90\n",
    "900-80-80-90\n",
    "010*12*34*56\n",
    "'''\n",
    "pattern = re.compile(r'\\d{3}.\\d{2}.\\d{2}.\\d{2}')\n",
    "matches = pattern.findall(phone_numbers)\n",
    "for match in matches:\n",
    "    print(match)\n"
   ]
  },
  {
   "cell_type": "markdown",
   "metadata": {},
   "source": [
    "<b>.match</b> method searches if given string is _at the beginning_ of a string:<br>\n",
    "(Notice that there's also option to use <b>^</b> as shown before) "
   ]
  },
  {
   "cell_type": "code",
   "execution_count": null,
   "metadata": {},
   "outputs": [],
   "source": [
    "import re\n",
    "sentence = \"Cat said meow\"\n",
    "pattern = re.compile(r'Cat')\n",
    "matches = pattern.match(sentence)\n",
    "print(matches)"
   ]
  },
  {
   "cell_type": "markdown",
   "metadata": {},
   "source": [
    "<b>.search</b> method searches the _entire_ string and return the _first_ match: <br>\n",
    "(If none found, returns None)"
   ]
  },
  {
   "cell_type": "code",
   "execution_count": null,
   "metadata": {},
   "outputs": [],
   "source": [
    "import re\n",
    "sentence = \"Cat said meow\"\n",
    "pattern = re.compile(r'meow')\n",
    "matches = pattern.search(sentence)\n",
    "print(matches)"
   ]
  },
  {
   "cell_type": "markdown",
   "metadata": {},
   "source": [
    "To search the sentence and ignore if there's upper/lowercase letters,<br> there's an option to use flags.<br>\n",
    "There's more flags but the ignore upper/lowercase is shown here:"
   ]
  },
  {
   "cell_type": "code",
   "execution_count": null,
   "metadata": {},
   "outputs": [],
   "source": [
    "import re\n",
    "sentence = \"Cat said meow\"\n",
    "pattern = re.compile(r'cat',re.IGNORECASE) #or re.I\n",
    "matches = pattern.search(sentence)\n",
    "print(matches) #finds Cat"
   ]
  }
 ],
 "metadata": {
  "kernelspec": {
   "display_name": "Python 3",
   "language": "python",
   "name": "python3"
  },
  "language_info": {
   "codemirror_mode": {
    "name": "ipython",
    "version": 3
   },
   "file_extension": ".py",
   "mimetype": "text/x-python",
   "name": "python",
   "nbconvert_exporter": "python",
   "pygments_lexer": "ipython3",
   "version": "3.8.7"
  }
 },
 "nbformat": 4,
 "nbformat_minor": 2
}

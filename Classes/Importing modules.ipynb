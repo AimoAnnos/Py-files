{
 "cells": [
  {
   "cell_type": "markdown",
   "metadata": {},
   "source": [
    "## Importing single class (or multiple classes from same module)"
   ]
  },
  {
   "cell_type": "code",
   "execution_count": null,
   "metadata": {},
   "outputs": [],
   "source": [
    "class Car:\n",
    "\n",
    "    def __init__(self,make,model,year) -> None:\n",
    "        self.make = make\n",
    "        self.model = model\n",
    "        self.year = year\n",
    "        self.odometer_reading = 0\n",
    "\n",
    "    def get_descriptive_name(self):\n",
    "        long_name = f\"{self.year} {self.make} {self.model}\"\n",
    "        return long_name\n",
    "\n",
    "    def read_odometer(self):\n",
    "        print(f\"This car has {self.odometer_reading} miles on it.\")\n",
    "\n",
    "    def update_odometer(self,mileage):\n",
    "        if mileage >= self.odometer_reading:\n",
    "            self.odometer_reading = mileage\n",
    "        else:\n",
    "            print(\"You can't roll back an odometer\")\n",
    "\n",
    "    def increment_odometer(self,miles):\n",
    "        self.odometer_reading += miles\n",
    "\n",
    "    def fill_gas_tank(self):\n",
    "        print(f\"Filling gas tank on {self.year} {self.make} {self.model}\")"
   ]
  },
  {
   "cell_type": "markdown",
   "metadata": {},
   "source": [
    "(Here assuming that Car class is in separate file in same directory called Car.py\n",
    "with code shown above)<br>\n",
    "Importing single class can be done by syntax <b>from <i>module</i> import <i>Class</i>:</b>"
   ]
  },
  {
   "cell_type": "code",
   "execution_count": null,
   "metadata": {},
   "outputs": [],
   "source": [
    "from car import Car\n",
    "\n",
    "myCar = Car(\"Audi\",\"A4\",2019)\n",
    "print(myCar.get_descriptive_name())\n",
    "\n",
    "myCar.odometer_reading = 23\n",
    "myCar.read_odometer()"
   ]
  },
  {
   "cell_type": "markdown",
   "metadata": {},
   "source": [
    "In the following code below, 3 classes are in same module. Let's say this code is in file cars.py:"
   ]
  },
  {
   "cell_type": "code",
   "execution_count": null,
   "metadata": {},
   "outputs": [],
   "source": [
    "class Car:\n",
    "\n",
    "    def __init__(self,make,model,year) -> None:\n",
    "        self.make = make\n",
    "        self.model = model\n",
    "        self.year = year\n",
    "        self.odometer_reading = 0\n",
    "\n",
    "    def get_descriptive_name(self):\n",
    "        long_name = f\"{self.year} {self.make} {self.model}\"\n",
    "        return long_name\n",
    "\n",
    "    def read_odometer(self):\n",
    "        print(f\"This car has {self.odometer_reading} miles on it.\")\n",
    "\n",
    "    def update_odometer(self,mileage):\n",
    "        if mileage >= self.odometer_reading:\n",
    "            self.odometer_reading = mileage\n",
    "        else:\n",
    "            print(\"You can't roll back an odometer\")\n",
    "\n",
    "    def increment_odometer(self,miles):\n",
    "        self.odometer_reading += miles\n",
    "\n",
    "    def fill_gas_tank(self):\n",
    "        print(f\"Filling gas tank on {self.year} {self.make} {self.model}\")\n",
    "    \n",
    "class Battery:\n",
    "    def __init__(self,battery_size=75):\n",
    "        self.battery_size = battery_size\n",
    "\n",
    "    def describe_battery(self):\n",
    "        print(f\"This car has a {self.battery_size}-kWh battery\")\n",
    "    \n",
    "    def get_range(self):\n",
    "        if self.battery_size == 75:\n",
    "            range = 260\n",
    "        elif self.battery_size == 100:\n",
    "            range = 315\n",
    "\n",
    "        print(f\"This car can go about {range} miles on a full charge.\")\n",
    "\n",
    "    def upgrade_battery(self):\n",
    "        if self.battery_size == 75:            \n",
    "            self.battery_size = 100\n",
    "\n",
    "\n",
    "class ElectricCar(Car):    \n",
    "    def __init__(self,make,model,year):\n",
    "        super().__init__(make,model,year)\n",
    "        self.battery = Battery()\n",
    "\n",
    "    def fill_gas_tank(self):\n",
    "        print(f\"{self.year} {self.make} {self.model} has no gas tank! It's electric!\")"
   ]
  },
  {
   "cell_type": "markdown",
   "metadata": {},
   "source": [
    "Just like importing single class from module containing only 1 class; we can import the class or classes we want:\n"
   ]
  },
  {
   "cell_type": "code",
   "execution_count": null,
   "metadata": {},
   "outputs": [],
   "source": [
    "from cars import ElectricCar\n",
    "\n",
    "tesla=ElectricCar(\"Tesla\",\"Model S\",2019)\n",
    "tesla.fill_gas_tank()"
   ]
  },
  {
   "cell_type": "markdown",
   "metadata": {},
   "source": [
    "or multiple classes:\n"
   ]
  },
  {
   "cell_type": "code",
   "execution_count": null,
   "metadata": {},
   "outputs": [],
   "source": [
    "from cars import ElectricCar, Car\n",
    "\n",
    "tesla=ElectricCar(\"Tesla\",\"Model S\",2019)\n",
    "ford = Car(\"Ford\",\"Focus\",2000)"
   ]
  },
  {
   "cell_type": "markdown",
   "metadata": {},
   "source": [
    "## Importing module\n"
   ]
  },
  {
   "cell_type": "markdown",
   "metadata": {},
   "source": [
    "We can also import module using syntax <b> import <i> module</i></b><br>\n",
    "Then when we want to access modules class when creating instance, we write<br>\n",
    "<i> module</i>.Class:"
   ]
  },
  {
   "cell_type": "code",
   "execution_count": null,
   "metadata": {},
   "outputs": [],
   "source": [
    "import cars\n",
    "\n",
    "myBeetle = cars.Car(\"VW\",\"Beetle\",2000)\n",
    "\n",
    "myTesla = cars.ElectricCar(\"Tesla\",\"Roadster\",2022)"
   ]
  },
  {
   "cell_type": "markdown",
   "metadata": {},
   "source": [
    "## Not preferred type of importing (but possible)"
   ]
  },
  {
   "cell_type": "code",
   "execution_count": null,
   "metadata": {},
   "outputs": [],
   "source": [
    "from cars import *\n",
    "\n",
    "'''This method is not recommended for two reasons.\n",
    "    First, it's helpful to be able to read the import statements at \n",
    "    the top of a file and get a clear sense of which classes a program uses.\n",
    "    This approach can also lead to confusion with names in the file.\n",
    "    If you accidentally import a class with the same name as something else in your program file,\n",
    "    you can create errors that are hard to diagnose. \n",
    "    '''"
   ]
  },
  {
   "cell_type": "markdown",
   "metadata": {},
   "source": [
    "## Importing separate modules"
   ]
  },
  {
   "cell_type": "markdown",
   "metadata": {},
   "source": [
    "It is possible to import separate modules to module with same syntax as in first example (importing just one class):"
   ]
  },
  {
   "cell_type": "code",
   "execution_count": null,
   "metadata": {},
   "outputs": [],
   "source": [
    "from car import Car\n",
    "from electric_car import ElectricCar\n",
    "\n",
    "myBeetle = Car(\"VW\",\"Beetle\",2000)\n",
    "\n",
    "myTesla = ElectricCar(\"Tesla\",\"Model S\",2019)"
   ]
  },
  {
   "cell_type": "markdown",
   "metadata": {},
   "source": [
    "## Using aliases"
   ]
  },
  {
   "cell_type": "markdown",
   "metadata": {},
   "source": [
    "With <b>as </b> we can define an alias we can then use:"
   ]
  },
  {
   "cell_type": "code",
   "execution_count": null,
   "metadata": {},
   "outputs": [],
   "source": [
    "from electric_car import ElectricCar as EC\n",
    "\n",
    "myTesla = EC(\"Tesla\",\"Model S\", 2019)\n",
    "print(myTesla.get_descriptive_name())"
   ]
  }
 ],
 "metadata": {
  "kernelspec": {
   "display_name": "Python 3",
   "language": "python",
   "name": "python3"
  },
  "language_info": {
   "codemirror_mode": {
    "name": "ipython",
    "version": 3
   },
   "file_extension": ".py",
   "mimetype": "text/x-python",
   "name": "python",
   "nbconvert_exporter": "python",
   "pygments_lexer": "ipython3",
   "version": "3.7.3"
  }
 },
 "nbformat": 4,
 "nbformat_minor": 2
}

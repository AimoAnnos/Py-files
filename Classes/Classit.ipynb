{
 "cells": [
  {
   "cell_type": "code",
   "execution_count": 8,
   "metadata": {},
   "outputs": [
    {
     "name": "stdout",
     "output_type": "stream",
     "text": [
      "total km= 140000\n",
      "Running Audi\n",
      "Running Skoda\n",
      "Running Car\n",
      "A4 now has 100500 kilometers\n"
     ]
    }
   ],
   "source": [
    "class Car:\n",
    "    \n",
    "    def __init__(self,model, km): # konstruktori\n",
    "        self.model = model\n",
    "        self.km = km\n",
    "        self.wheels = 4        \n",
    "\n",
    "    def run(self):\n",
    "        print(\"Running Car\")\n",
    "\n",
    "    def add_km(self, km):\n",
    "        self.km += km\n",
    "        print(f\"{self.model} now has {self.km} kilometers\")   \n",
    "\n",
    "class Audi(Car):\n",
    "    def __init__(self, model, km):\n",
    "        super().__init__(model,km)\n",
    "        self.brand = \"Audi\"\n",
    "        \n",
    "    def run(self):\n",
    "        print(\"Running Audi\")\n",
    "\n",
    "class Skoda(Car):\n",
    "    def __init__(self, model, km):\n",
    "        self.brand = \"Skoda\"\n",
    "        self.model = model\n",
    "        self.km = km\n",
    "\n",
    "    def run(self):\n",
    "        print(\"Running Skoda\")\n",
    "\n",
    "class VW(Car):\n",
    "    def __init__(self, model, km):\n",
    "        self.brand = \"VW\"\n",
    "        self.model = model\n",
    "        self.km = km\n",
    "\n",
    "def createCars():\n",
    "    audi = Audi(\"A4\", 100000)\n",
    "    skoda = Skoda(\"Superb\", 30000)\n",
    "    vw = VW(\"Passat\", 10000)\n",
    "    print(\"total km=\",audi.km+skoda.km+vw.km)\n",
    "    audi.run()\n",
    "    skoda.run()\n",
    "    vw.run()\n",
    "    audi.add_km(500)\n",
    "\n",
    "\n",
    "createCars()     "
   ]
  },
  {
   "cell_type": "code",
   "execution_count": 22,
   "metadata": {},
   "outputs": [
    {
     "name": "stdout",
     "output_type": "stream",
     "text": [
      "Catti is 5 years old\n",
      "Catti's color is Brown\n",
      "Doge is 6 years old\n",
      "Doge is now running\n",
      "Doge is now jumping\n"
     ]
    }
   ],
   "source": [
    "class Animal:\n",
    "    def __init__(self,name,age):\n",
    "        self.name = name\n",
    "        self.age = age\n",
    "        print(f\"{self.name} is {self.age} years old\")\n",
    "    \n",
    "    def run(self):\n",
    "        print(f\"{self.name} is now running\")\n",
    "\n",
    "    def jump(self):\n",
    "        print(f\"{self.name} is now jumping\")\n",
    "\n",
    "class Dog(Animal):\n",
    "\n",
    "    def do_tricks(self):\n",
    "        super().run() # super viittaa ylempään\n",
    "        super().jump()\n",
    "\n",
    "class Cat(Animal):\n",
    "    def __init__(self, name, age, color):\n",
    "        super().__init__(name, age)\n",
    "        self.color = color\n",
    "        print(f\"{name}'s color is {color}\")\n",
    "\n",
    "c = Cat(\"Catti\",5,\"Brown\")\n",
    "\n",
    "dog = Dog(\"Doge\",6)\n",
    "dog.do_tricks()"
   ]
  },
  {
   "cell_type": "code",
   "execution_count": 30,
   "metadata": {},
   "outputs": [
    {
     "name": "stdout",
     "output_type": "stream",
     "text": [
      "1\n",
      "0\n",
      "1\n"
     ]
    }
   ],
   "source": [
    "class Car:\n",
    "    wheels = 0 # = luokan attribuutti/ class attribute\n",
    "\n",
    "    def __init__(self):\n",
    "        self.wheels +=1\n",
    "\n",
    "car = Car()\n",
    "print(car.wheels) # 1\n",
    "print(Car.wheels) # 0 (luokan attribuutti on 0)\n",
    "car2 = Car()\n",
    "print(car2.wheels)"
   ]
  },
  {
   "cell_type": "code",
   "execution_count": 20,
   "metadata": {},
   "outputs": [
    {
     "name": "stdout",
     "output_type": "stream",
     "text": [
      "Constructor child\n",
      "Constructor-Parents\n",
      "GrandParents constructor\n",
      "We're bloody Irish!\n",
      "YARRRR and a bottle of rum!\n",
      "YARRRR and a bottle of rum!\n"
     ]
    }
   ],
   "source": [
    "class GrandParents:\n",
    "    def __init__(self):\n",
    "        print(\"GrandParents constructor\")\n",
    "    def family_saying(self):\n",
    "        print(\"We're bloody Irish!\")\n",
    "    def other_saying(self):\n",
    "        print(\"YARRRR and a bottle of rum!\")\n",
    "\n",
    "class Parent(GrandParents): # perii GrandpParents\n",
    "    def __init__(self):\n",
    "        print(\"Constructor-Parents\")\n",
    "        super().__init__() #kutsuu perityn luokan konstruktoria = Granparentsilta\n",
    "        super().family_saying()\n",
    "    def parent_saying(self):\n",
    "        print(\"Be nice children!\")\n",
    "\n",
    "class Child(Parent):\n",
    "    def __init__(self):\n",
    "        print(\"Constructor child\")\n",
    "        super().__init__()\n",
    "\n",
    "        GrandParents.other_saying(self) # ottaa käyttöön perityn metodin\n",
    "        super(Parent, self).other_saying() # ^toinen tapa \n",
    "\n",
    "bart = Child()\n",
    "\n",
    "\n"
   ]
  },
  {
   "cell_type": "markdown",
   "metadata": {},
   "source": [
    "#### When to use class attributes"
   ]
  },
  {
   "cell_type": "markdown",
   "metadata": {},
   "source": [
    "##### 1) Stroring constants\n",
    "\n"
   ]
  },
  {
   "cell_type": "code",
   "execution_count": 34,
   "metadata": {},
   "outputs": [
    {
     "data": {
      "text/plain": [
       "<bound method Circle.area of <__main__.Circle object at 0x00000238AB688BB0>>"
      ]
     },
     "execution_count": 34,
     "metadata": {},
     "output_type": "execute_result"
    }
   ],
   "source": [
    "class Circle(object):\n",
    "    pi = 3.14159\n",
    "\n",
    "    def __init__(self, radius):\n",
    "        self.radius = radius\n",
    "    def area(self):\n",
    "        return Circle.pi * self.radius * self.radius\n",
    "\n",
    "c = Circle(10)\n",
    "c.area"
   ]
  },
  {
   "cell_type": "markdown",
   "metadata": {},
   "source": [
    "#### 2) Defining default values"
   ]
  },
  {
   "cell_type": "code",
   "execution_count": null,
   "metadata": {},
   "outputs": [],
   "source": [
    "class myClass(object):\n",
    "    limit = 10\n",
    "\n",
    "    def __init__(self):\n",
    "        self.data=[]\n",
    "    def add(self, e):\n",
    "        if len(self.data) >= self.limit:\n",
    "            raise Exception(\"Too many elements\")\n",
    "        self.data.append(e)\n",
    "\n",
    "m = myClass()\n",
    "m.limit = 50"
   ]
  },
  {
   "cell_type": "markdown",
   "metadata": {},
   "source": [
    "#### 3) Tracking all data across all instances of a given class"
   ]
  },
  {
   "cell_type": "code",
   "execution_count": 33,
   "metadata": {},
   "outputs": [
    {
     "name": "stdout",
     "output_type": "stream",
     "text": [
      "['Joe', 'Bob']\n"
     ]
    }
   ],
   "source": [
    "class Person(object):\n",
    "    all_names = []\n",
    "\n",
    "    def __init__(self,name):\n",
    "        self.name = name\n",
    "        Person.all_names.append(name)\n",
    "\n",
    "joe = Person(\"Joe\")\n",
    "bob = Person(\"Bob\")\n",
    "print(Person.all_names)\n",
    "        "
   ]
  }
 ],
 "metadata": {
  "interpreter": {
   "hash": "29a37d8cef3aaa6abdc6999b9d36fcff9de87d77d7c29e05fa58cfbd4665079a"
  },
  "kernelspec": {
   "display_name": "Python 3.8.7 64-bit",
   "language": "python",
   "name": "python3"
  },
  "language_info": {
   "codemirror_mode": {
    "name": "ipython",
    "version": 3
   },
   "file_extension": ".py",
   "mimetype": "text/x-python",
   "name": "python",
   "nbconvert_exporter": "python",
   "pygments_lexer": "ipython3",
   "version": "3.8.7"
  },
  "orig_nbformat": 4
 },
 "nbformat": 4,
 "nbformat_minor": 2
}

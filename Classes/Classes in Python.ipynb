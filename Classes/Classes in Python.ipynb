{
 "cells": [
  {
   "cell_type": "markdown",
   "metadata": {},
   "source": [
    "# Classes in Python"
   ]
  },
  {
   "cell_type": "markdown",
   "metadata": {},
   "source": [
    " "
   ]
  },
  {
   "cell_type": "markdown",
   "metadata": {},
   "source": [
    "## Creating a class and instance of a class"
   ]
  },
  {
   "cell_type": "code",
   "execution_count": null,
   "metadata": {
    "scrolled": true
   },
   "outputs": [],
   "source": [
    "# Creating of a class:\n",
    "class Animal:\n",
    "    print(\"class Animal instantiated\")\n",
    "    \n",
    "# Making a instance of a class:\n",
    "a = Animal()\n"
   ]
  },
  {
   "cell_type": "markdown",
   "metadata": {},
   "source": [
    "## Creating and accessing class methods"
   ]
  },
  {
   "cell_type": "code",
   "execution_count": 18,
   "metadata": {},
   "outputs": [
    {
     "name": "stdout",
     "output_type": "stream",
     "text": [
      "This is default saying of Animal-class\n",
      "Animal's name (given in paramteter) is Tiger\n"
     ]
    }
   ],
   "source": [
    "class Animal:\n",
    "    #functions in class are called methods\n",
    "    def say(self): # NOTICE: class methods' first parameter is always self\n",
    "        print(\"This is default saying of Animal-class\")\n",
    "    \n",
    "    def print_animal_name(self,name): #Notice, that self must always be the first parameter\n",
    "        #we make a class variable animal_name and set it's value to name from parameter\n",
    "        self.animal_name = name\n",
    "        print(\"Animal's name (given in paramteter) is\", self.animal_name)\n",
    "        \n",
    "        \n",
    "a = Animal()\n",
    "\n",
    "#access the method(s) of class\n",
    "a.say() # with . and () we can access the methods of a class\n",
    "\n",
    "# if method has arguments, those must be put inside ()\n",
    "a.print_animal_name(\"Tiger\")"
   ]
  },
  {
   "cell_type": "markdown",
   "metadata": {},
   "source": [
    "## Creating class (default) constructor "
   ]
  },
  {
   "cell_type": "code",
   "execution_count": 19,
   "metadata": {},
   "outputs": [
    {
     "name": "stdout",
     "output_type": "stream",
     "text": [
      "default constructor called\n"
     ]
    }
   ],
   "source": [
    "class Animal:\n",
    "    #default constructor has the following syntax<br>\n",
    "    #(by the way __ aka.'underscore underscore' methods are called 'dunder methods' in Python):<br>\n",
    "    def __init__(self):\n",
    "        print(\"default constructor called\")\n",
    "        \n",
    "a = Animal() # default constructor will be called automatically when instance of class is created\n"
   ]
  },
  {
   "cell_type": "markdown",
   "metadata": {},
   "source": [
    "## Creating class constructor (parametrized)"
   ]
  },
  {
   "cell_type": "code",
   "execution_count": 20,
   "metadata": {},
   "outputs": [
    {
     "name": "stdout",
     "output_type": "stream",
     "text": [
      "parametrized constructor called with values Tiger 10\n"
     ]
    }
   ],
   "source": [
    "class Animal:   \n",
    "    def __init__(self,name,age):\n",
    "        print(\"parametrized constructor called with values\", name, age)\n",
    "        \n",
    "a = Animal(\"Tiger\",10)"
   ]
  },
  {
   "cell_type": "markdown",
   "metadata": {},
   "source": [
    "## Creating multiple instances of same class"
   ]
  },
  {
   "cell_type": "code",
   "execution_count": 21,
   "metadata": {},
   "outputs": [
    {
     "name": "stdout",
     "output_type": "stream",
     "text": [
      "I am a Tiger and I am 10 years old\n",
      "I am a Panda and I am 5 years old\n",
      "I am a Fox and I am 15 years old\n"
     ]
    }
   ],
   "source": [
    "class Animal:   \n",
    "    def __init__(self,name,age):\n",
    "        print(f\"I am a {name} and I am {age} years old\")\n",
    "        \n",
    "tiger = Animal(\"Tiger\",10)\n",
    "panda = Animal(\"Panda\",5)\n",
    "fox = Animal(\"Fox\",15)\n"
   ]
  },
  {
   "cell_type": "markdown",
   "metadata": {},
   "source": [
    "## Class inheritance"
   ]
  },
  {
   "cell_type": "code",
   "execution_count": 22,
   "metadata": {},
   "outputs": [
    {
     "name": "stdout",
     "output_type": "stream",
     "text": [
      "Dog is running\n",
      "Dog says WUF!\n",
      "Animal is walking\n"
     ]
    }
   ],
   "source": [
    "class Animal:    \n",
    "    \n",
    "    def say(self):\n",
    "        print(\"This is default animal saying\")\n",
    "    def walk(self):\n",
    "        print(\"Animal is walking\")\n",
    "        \n",
    "class Dog(Animal):   # Dog inherits Animal class. Thus Dog has all Animal class-methods available \n",
    "    def run(self):\n",
    "        print(\"Dog is running\")\n",
    "    def say(self):\n",
    "        print(\"Dog says WUF!\")\n",
    "        \n",
    "dog = Dog()\n",
    "dog.run() # we call run-method from Dog-class\n",
    "dog.say() # both classes has say()-method, but say()-method of Dog class overrides the method of it's parent (Animal) class\n",
    "dog.walk() # method is only in parent (Animal) class"
   ]
  },
  {
   "cell_type": "markdown",
   "metadata": {},
   "source": [
    "## Class inheritance with multiple instances "
   ]
  },
  {
   "cell_type": "code",
   "execution_count": 23,
   "metadata": {},
   "outputs": [
    {
     "name": "stdout",
     "output_type": "stream",
     "text": [
      "Animal class constructor called by Doggie\n",
      "Animal class constructor called by Cattie\n",
      "Dog says WUF\n",
      "Cat says MEOW\n",
      "Doggie is running..\n",
      "Cattie is running..\n"
     ]
    }
   ],
   "source": [
    "class Animal:\n",
    "    def __init__(self,name):\n",
    "        self.name = name\n",
    "        print(f\"Animal class constructor called by {self.name}\")\n",
    "       \n",
    "    def run(self):\n",
    "        print(f\"{self.name} is running..\")\n",
    "    \n",
    "    \n",
    "class Dog(Animal):\n",
    "    saying = \"WUF\"  #scope of this variable is in Dog class-scope..\n",
    "    \n",
    "    def say(self):\n",
    "        print(f\"Dog says {self.saying}\") #..that's why self is needed here to refer to saying of Dog class\n",
    "        \n",
    "        \n",
    "class Cat(Animal): \n",
    "    saying = \"MEOW\"\n",
    "    \n",
    "    def say(self):\n",
    "        print(f\"Cat says {self.saying}\")\n",
    "    \n",
    "       \n",
    "d = Dog(\"Doggie\")\n",
    "c = Cat(\"Cattie\")\n",
    "\n",
    "d.say() #both dog and cat has their own say-methods\n",
    "c.say()  \n",
    "d.run() #both dog and cat can use common method run from parent class\n",
    "c.run()"
   ]
  },
  {
   "cell_type": "markdown",
   "metadata": {},
   "source": [
    "## Calling methods explicitely from parent class using <i>super()</i>"
   ]
  },
  {
   "cell_type": "markdown",
   "metadata": {},
   "source": [
    "- super() refers to parent class\n",
    "- with super() methods (including __init__) can be called from inheriting class"
   ]
  },
  {
   "cell_type": "code",
   "execution_count": 24,
   "metadata": {},
   "outputs": [
    {
     "name": "stdout",
     "output_type": "stream",
     "text": [
      "__init__ from Animal class called\n",
      "Doggie is now running\n",
      "Doggie is now sitting\n"
     ]
    }
   ],
   "source": [
    "class Animal:\n",
    "    def __init__(self,name):\n",
    "        self.name = name\n",
    "        print(\"__init__ from Animal class called\")\n",
    "        \n",
    "    def run(self):\n",
    "        print(f\"{self.name} is now running\")\n",
    "        \n",
    "    def sit(self):\n",
    "        print(f\"{self.name} is now sitting\")\n",
    "        \n",
    "\n",
    "class Dog(Animal):\n",
    "    def do_the_tricks(self):\n",
    "        super().run()\n",
    "        super().sit()\n",
    "        \n",
    "\n",
    "d = Dog(\"Doggie\")\n",
    "d.do_the_tricks()"
   ]
  },
  {
   "cell_type": "markdown",
   "metadata": {},
   "source": [
    "## Multi-level inheriting and accessing parent classes' constructors/methods"
   ]
  },
  {
   "cell_type": "code",
   "execution_count": 25,
   "metadata": {},
   "outputs": [
    {
     "name": "stdout",
     "output_type": "stream",
     "text": [
      "Child constructor\n",
      "Parent constructor\n",
      "GrandParent constructor\n",
      "Parent.parent_saying->'Be nice to each other'\n",
      "Yarr and bottle of Rhum!\n",
      "Yarr and bottle of Rhum!\n",
      "Yarr and bottle of Rhum!\n",
      "Yarr and bottle of Rhum!\n",
      "GrandParent.family_saying->'We are bloody Irish!''\n"
     ]
    }
   ],
   "source": [
    "class GrandParent:\n",
    "    def __init__(self):\n",
    "        print(\"GrandParent constructor\")\n",
    "    def family_saying(self):\n",
    "        print(\"GrandParent.family_saying->'We are bloody Irish!''\")\n",
    "    def other_saying(self):\n",
    "        print(\"Yarr and bottle of Rhum!\")\n",
    "        \n",
    "class Parent(GrandParent):\n",
    "    def __init__(self):\n",
    "        print(\"Parent constructor\")\n",
    "        super().__init__() #calls parent class constructor\n",
    "    def parent_saying(self):\n",
    "        print(\"Parent.parent_saying->'Be nice to each other'\")\n",
    "        \n",
    "class Child(Parent):\n",
    "    def __init__(self):\n",
    "        print(\"Child constructor\")\n",
    "        super().__init__() #calls Parent class constructor\n",
    "        super().parent_saying() #calls method of Parent class        \n",
    "        \n",
    "        GrandParent.other_saying(self) # one way to access inherited method directly \n",
    "        super(Parent,self).other_saying() #2nd way ^\n",
    "        super(Child.__bases__[0], self).other_saying() #3rd way ^\n",
    "        super(type(self).__bases__[0], self).other_saying() #same as 3rd way, but without hard-coding 'Child'\n",
    "        \n",
    "bart = Child()\n",
    "bart.family_saying() # Child class has all the methods from Parent and GrandParent\n",
    "#bart.parent_saying()\n",
    "        "
   ]
  },
  {
   "cell_type": "markdown",
   "metadata": {},
   "source": [
    "## Adding attribute to class which inherits another class"
   ]
  },
  {
   "cell_type": "markdown",
   "metadata": {},
   "source": [
    "- Imagine you have class Animal with attributes name and age. Then you create class Cat which inherits Animal,<br>\n",
    "  but you want add color-attribute to Cat only, but still use name and age from parent class.<br> \n",
    "   This is possible with calling parent class __init__ with super() and only set the color attribute in Cat class.\n"
   ]
  },
  {
   "cell_type": "code",
   "execution_count": 26,
   "metadata": {},
   "outputs": [
    {
     "name": "stdout",
     "output_type": "stream",
     "text": [
      "Cattie is 5 years old\n",
      "Cattie's color is Brown\n"
     ]
    }
   ],
   "source": [
    "class Animal:\n",
    "    def __init__(self,name,age):\n",
    "        self.name = name\n",
    "        self.age = age\n",
    "        \n",
    "        print(f\"{self.name} is {self.age} years old\")\n",
    "        \n",
    "class Cat(Animal):\n",
    "    def __init__(self,name,age,color):\n",
    "        super().__init__(name,age)\n",
    "        self.color = color\n",
    "        \n",
    "        print(f\"{name}'s color is {color}\")\n",
    "        \n",
    "c = Cat(\"Cattie\", 5, \"Brown\")\n"
   ]
  },
  {
   "cell_type": "markdown",
   "metadata": {},
   "source": [
    "## Accessing class attributes "
   ]
  },
  {
   "cell_type": "code",
   "execution_count": 27,
   "metadata": {
    "scrolled": true
   },
   "outputs": [
    {
     "name": "stdout",
     "output_type": "stream",
     "text": [
      "1\n",
      "0\n",
      "1\n"
     ]
    }
   ],
   "source": [
    "class Animal:\n",
    "    number_of_animals = 0\n",
    "    \n",
    "    def __init__(self):\n",
    "        self.number_of_animals+=1\n",
    "    \n",
    "\n",
    "a1 = Animal()\n",
    "print(a1.number_of_animals) #outputs 1,when creating an instance, \n",
    "                            #self.number_of_animals increments instance's number_of_animals,\n",
    "                            #not the class-scoped number_of_animals \n",
    "print(Animal.number_of_animals) #outputs 0, since here no instance is created, class-scoped number_of_animals is not altered\n",
    "a2 = Animal()\n",
    "print(a2.number_of_animals) #outputs 1, each instance has it's own (self)number_of animals\n"
   ]
  },
  {
   "cell_type": "markdown",
   "metadata": {},
   "source": [
    "#### Altering class attribute itself "
   ]
  },
  {
   "cell_type": "code",
   "execution_count": 28,
   "metadata": {},
   "outputs": [
    {
     "name": "stdout",
     "output_type": "stream",
     "text": [
      "1\n",
      "2\n"
     ]
    }
   ],
   "source": [
    "class Animal:\n",
    "    number_of_animals = 0\n",
    "    \n",
    "    def __init__(self):\n",
    "        Animal.number_of_animals+=1\n",
    "    \n",
    "\n",
    "a1 = Animal()\n",
    "print(Animal.number_of_animals) #outputs 1\n",
    "a2 = Animal()\n",
    "print(Animal.number_of_animals) #outputs 2\n",
    "\n",
    "\n"
   ]
  },
  {
   "cell_type": "markdown",
   "metadata": {},
   "source": [
    "## When Should you Use Python Class Attributes?"
   ]
  },
  {
   "cell_type": "markdown",
   "metadata": {},
   "source": [
    "### 1)Storing constants"
   ]
  },
  {
   "cell_type": "code",
   "execution_count": 2,
   "metadata": {},
   "outputs": [
    {
     "data": {
      "text/plain": [
       "314.159"
      ]
     },
     "execution_count": 2,
     "metadata": {},
     "output_type": "execute_result"
    }
   ],
   "source": [
    "class Circle(object):\n",
    "    pi = 3.14159\n",
    "\n",
    "    def __init__(self, radius):\n",
    "        self.radius = radius\n",
    "\n",
    "    def area(self):\n",
    "        return Circle.pi * self.radius * self.radius\n",
    "\n",
    "\n",
    "c = Circle(10)\n",
    "c.area()\n",
    "## 314.159"
   ]
  },
  {
   "cell_type": "markdown",
   "metadata": {},
   "source": [
    "### 2)Defining default values"
   ]
  },
  {
   "cell_type": "code",
   "execution_count": 4,
   "metadata": {},
   "outputs": [
    {
     "data": {
      "text/plain": [
       "10"
      ]
     },
     "execution_count": 4,
     "metadata": {},
     "output_type": "execute_result"
    }
   ],
   "source": [
    "class MyClass(object):\n",
    "    limit = 10\n",
    "\n",
    "    def __init__(self):\n",
    "        self.data = []\n",
    "\n",
    "    def item(self, i):\n",
    "        return self.data[i]\n",
    "\n",
    "    def add(self, e):\n",
    "        if len(self.data) >= self.limit:\n",
    "            raise Exception(\"Too many elements\")\n",
    "        self.data.append(e)\n",
    "\n",
    "MyClass.limit\n",
    "## 10"
   ]
  },
  {
   "cell_type": "markdown",
   "metadata": {},
   "source": [
    "We could then create instances with their own specific limits, too, by assigning to the instance’s limit attribute."
   ]
  },
  {
   "cell_type": "code",
   "execution_count": 5,
   "metadata": {},
   "outputs": [],
   "source": [
    "foo = MyClass()\n",
    "foo.limit = 50\n",
    "## foo can now hold 50 elements—other instances can hold 10"
   ]
  },
  {
   "cell_type": "markdown",
   "metadata": {},
   "source": [
    "This only makes sense if you will want your typical instance of MyClass to hold just 10 elements or fewer—if you’re giving all of your instances different limits, then limit should be an instance variable"
   ]
  },
  {
   "cell_type": "markdown",
   "metadata": {},
   "source": [
    "### 3)Tracking all data across all instances of a given class"
   ]
  },
  {
   "cell_type": "code",
   "execution_count": 7,
   "metadata": {},
   "outputs": [
    {
     "name": "stdout",
     "output_type": "stream",
     "text": [
      "['Joe', 'Bob']\n"
     ]
    }
   ],
   "source": [
    "class Person(object):\n",
    "    all_names = []\n",
    "\n",
    "    def __init__(self, name):\n",
    "        self.name = name\n",
    "        Person.all_names.append(name)\n",
    "\n",
    "        \n",
    "joe = Person('Joe')\n",
    "bob = Person('Bob')\n",
    "print (Person.all_names)\n",
    "## ['Joe', 'Bob']"
   ]
  },
  {
   "cell_type": "markdown",
   "metadata": {},
   "source": [
    "We could even use this design pattern to track all existing instances of a given class, rather than just some associated data"
   ]
  },
  {
   "cell_type": "code",
   "execution_count": 9,
   "metadata": {},
   "outputs": [
    {
     "name": "stdout",
     "output_type": "stream",
     "text": [
      "[<__main__.Person object at 0x7fec64490cf8>, <__main__.Person object at 0x7fec64490c88>]\n"
     ]
    }
   ],
   "source": [
    "class Person(object):\n",
    "    all_people = []\n",
    "\n",
    "    def __init__(self, name):\n",
    "        self.name = name\n",
    "        Person.all_people.append(self)\n",
    "\n",
    "        \n",
    "joe = Person('Joe')\n",
    "bob = Person('Bob')\n",
    "print(Person.all_people)\n",
    "## [<__main__.Person object at 0x10e428c50>, <__main__.Person object at 0x10e428c90>]"
   ]
  },
  {
   "cell_type": "markdown",
   "metadata": {},
   "source": [
    "## Creating  @staticmethod"
   ]
  },
  {
   "cell_type": "markdown",
   "metadata": {},
   "source": [
    "- static methods cannot access class attributes or instance attributes\n",
    "- static methods cannot change any variable value, or generally change anything\n",
    "- static methods cannot have cls or self -arguments\n",
    "- WHEN TO USE: <br>\n",
    " - good for own generic utility functions that can be inside a class but can be accessible anywhere without class instance \n",
    " - when you want specific function belong to certain class and want to access it anytime without instancing the class<br>\n",
    " - when you need a utility function that doesn't access any properties of a class but makes sense that it belongs to the class\n",
    " "
   ]
  },
  {
   "cell_type": "code",
   "execution_count": 29,
   "metadata": {},
   "outputs": [
    {
     "name": "stdout",
     "output_type": "stream",
     "text": [
      "The sum is: 15\n"
     ]
    }
   ],
   "source": [
    "# old, un-pythonic way:\n",
    "\n",
    "class Mathematics:\n",
    "\n",
    "    def addNumbers(x, y):\n",
    "        return x + y\n",
    "\n",
    "# create addNumbers static method\n",
    "Mathematics.addNumbers = staticmethod(Mathematics.addNumbers)\n",
    "\n",
    "print('The sum is:', Mathematics.addNumbers(5, 10))"
   ]
  },
  {
   "cell_type": "code",
   "execution_count": 2,
   "metadata": {},
   "outputs": [
    {
     "name": "stdout",
     "output_type": "stream",
     "text": [
      "10\n",
      "11\n"
     ]
    }
   ],
   "source": [
    "#new way, using decorator @staticmethod:\n",
    "class Mathematics:\n",
    "    \n",
    "    @staticmethod\n",
    "    def addNumbers(x, y):\n",
    "        return x + y\n",
    "    \n",
    "    @staticmethod\n",
    "    def addFive(x):\n",
    "        return x  +5\n",
    "    \n",
    "added = Mathematics.addNumbers(5,5) \n",
    "addedFive = Mathematics.addFive(6) \n",
    "print (added)\n",
    "print(addedFive)"
   ]
  }
 ],
 "metadata": {
  "kernelspec": {
   "display_name": "Python 3",
   "language": "python",
   "name": "python3"
  },
  "language_info": {
   "codemirror_mode": {
    "name": "ipython",
    "version": 3
   },
   "file_extension": ".py",
   "mimetype": "text/x-python",
   "name": "python",
   "nbconvert_exporter": "python",
   "pygments_lexer": "ipython3",
   "version": "3.7.3"
  }
 },
 "nbformat": 4,
 "nbformat_minor": 5
}

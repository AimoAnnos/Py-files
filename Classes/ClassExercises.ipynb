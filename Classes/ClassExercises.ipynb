{
 "cells": [
  {
   "cell_type": "markdown",
   "metadata": {},
   "source": [
    "## Exercise 1"
   ]
  },
  {
   "cell_type": "markdown",
   "metadata": {},
   "source": [
    " Make a class called Restaurant. \n",
    " The __init__() method for Restaurant should store two attributes: \n",
    " a restaurant_name and a cuisine_type.\n",
    " Make a method called describe_restaurant() that prints these two pieces of information, \n",
    " and a method called open_restaurant() that prints a \n",
    " message indicating that the restaurant is open.\n",
    " Make an instance called restaurant from your class. \n",
    " Print the two attributes individually, and then call both methods."
   ]
  },
  {
   "cell_type": "code",
   "execution_count": 2,
   "metadata": {},
   "outputs": [
    {
     "name": "stdout",
     "output_type": "stream",
     "text": [
      "Pizza Paradisio\n",
      "Pizzeria\n",
      "Pizza Paradisio is of type Pizzeria\n",
      "Pizza Paradisio is now open.\n"
     ]
    }
   ],
   "source": [
    "class Restaurant:\n",
    "    \n",
    "    def __init__(self,restaurant_name, cuisine_type):\n",
    "        self.restaurant_name = restaurant_name\n",
    "        self.cuisine_type = cuisine_type\n",
    "        \n",
    "    def describe_restaurant(self):\n",
    "        print(f\"{self.restaurant_name} is of type {self.cuisine_type}\")\n",
    "              \n",
    "    def open_restaurant(self):\n",
    "        print(f\"{self.restaurant_name} is now open.\")\n",
    "        \n",
    "restaurant = Restaurant(\"Pizza Paradisio\",\"Pizzeria\")\n",
    "print(restaurant.restaurant_name)\n",
    "print(restaurant.cuisine_type)\n",
    "restaurant.describe_restaurant()\n",
    "restaurant.open_restaurant()\n",
    "              "
   ]
  },
  {
   "cell_type": "markdown",
   "metadata": {},
   "source": [
    "## Exercise 2"
   ]
  },
  {
   "cell_type": "markdown",
   "metadata": {},
   "source": [
    "Make three Restaurants.\n",
    "Create three different instances from the class and call describe_restaurant() for each instance."
   ]
  },
  {
   "cell_type": "code",
   "execution_count": 4,
   "metadata": {},
   "outputs": [
    {
     "name": "stdout",
     "output_type": "stream",
     "text": [
      "Pizza Paradisio is of type Pizzeria\n",
      "Restarant Apollo is of type Fine-dining\n",
      "Old Thistle is of type Fine-dining\n"
     ]
    }
   ],
   "source": [
    "r1 = Restaurant(\"Pizza Paradisio\", \"Pizzeria\")\n",
    "r2 = Restaurant(\"Restarant Apollo\", \"Fine-dining\")\n",
    "r3 = Restaurant(\"Old Thistle\", \"Fine-dining\")\n",
    "r1.describe_restaurant()\n",
    "r2.describe_restaurant()\n",
    "r3.describe_restaurant()"
   ]
  },
  {
   "cell_type": "markdown",
   "metadata": {},
   "source": [
    "## Exercise 3"
   ]
  },
  {
   "cell_type": "markdown",
   "metadata": {},
   "source": [
    "Add an attribute called customers_served with default value of 0.<br>\n",
    "Add customers_served also to describe_restaurant() method.<br>\n",
    "Create an instance from Restaurant class.<br>\n",
    "Print the number of customers the restaurant has served.<br>\n",
    "Add a method called set_number_of_customers_served() that lets you set the number<br> of customers who've been served.<br>\n",
    "Call describe_restaurant() method last in this method.<br>\n",
    "Call this method with any number you like that could represent how many customers were<br> served in a day.<br>\n",
    "Also add a method increment_number_of_customers_served() that increments the number of<br> served customers by 1.<br>\n",
    "This method also calls describe_restaurant() last.<br>\n",
    "Call increment_number_of_customers_served()<br>\n"
   ]
  },
  {
   "cell_type": "code",
   "execution_count": 12,
   "metadata": {},
   "outputs": [
    {
     "name": "stdout",
     "output_type": "stream",
     "text": [
      "0\n",
      "Pizza Paradisio is of type Pizzeria.\n",
      "Number of people served today:5\n",
      "Pizza Paradisio is of type Pizzeria.\n",
      "Number of people served today:6\n"
     ]
    }
   ],
   "source": [
    "class Restaurant:\n",
    "    \n",
    "    def __init__(self,restaurant_name, cuisine_type, customers_served=0):\n",
    "        self.restaurant_name = restaurant_name\n",
    "        self.cuisine_type = cuisine_type\n",
    "        self.customers_served = customers_served\n",
    "        \n",
    "    def describe_restaurant(self):\n",
    "        print(f\"{self.restaurant_name} is of type {self.cuisine_type}.\\nNumber of people served today:{self.customers_served}\")\n",
    "              \n",
    "    def open_restaurant(self):\n",
    "        print(f\"{self.restaurant_name} is now open.\")\n",
    "        \n",
    "    def set_number_of_customers_served(self,amount):\n",
    "        self.customers_served = amount\n",
    "        self.describe_restaurant()\n",
    "        \n",
    "    def increment_number_of_customers_served(self):\n",
    "        self.customers_served += 1\n",
    "        self.describe_restaurant()\n",
    "        \n",
    "restaurant = Restaurant(\"Pizza Paradisio\", \"Pizzeria\")\n",
    "print(restaurant.customers_served)\n",
    "restaurant.set_number_of_customers_served(5)\n",
    "restaurant.increment_number_of_customers_served()"
   ]
  }
 ],
 "metadata": {
  "kernelspec": {
   "display_name": "Python 3",
   "language": "python",
   "name": "python3"
  },
  "language_info": {
   "codemirror_mode": {
    "name": "ipython",
    "version": 3
   },
   "file_extension": ".py",
   "mimetype": "text/x-python",
   "name": "python",
   "nbconvert_exporter": "python",
   "pygments_lexer": "ipython3",
   "version": "3.7.3"
  }
 },
 "nbformat": 4,
 "nbformat_minor": 2
}

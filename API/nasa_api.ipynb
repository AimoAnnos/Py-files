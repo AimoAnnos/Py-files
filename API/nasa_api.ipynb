{
 "cells": [
  {
   "cell_type": "code",
   "execution_count": 1,
   "metadata": {},
   "outputs": [],
   "source": [
    "import requests\n",
    "from decouple import config, AutoConfig\n",
    "config = AutoConfig(' ')\n",
    "from urllib3.util.url import parse_url\n",
    "from pathlib import Path"
   ]
  },
  {
   "cell_type": "code",
   "execution_count": 2,
   "metadata": {},
   "outputs": [],
   "source": [
    "API_KEY = config('API_KEY')\n",
    "API_URL = f'https://api.nasa.gov/planetary/apod'\n",
    "\n",
    "res = requests.get(url=API_URL, params={'api_key': API_KEY, 'date': '2020-01-01'}, timeout=10)\n",
    "\n",
    "if res.ok:\n",
    "    data = res.json()"
   ]
  },
  {
   "cell_type": "code",
   "execution_count": 5,
   "metadata": {},
   "outputs": [
    {
     "data": {
      "text/plain": [
       "b'{\"date\":\"2020-01-01\",\"explanation\":\"Why is Betelgeuse fading?  No one knows.  Betelgeuse, one of the brightest and most recognized stars in the night sky, is only half as bright as it used to be only five months ago.  Such variability is likely just  normal behavior for this famously variable supergiant, but the recent dimming has rekindled discussion on how long it may be before Betelgeuse does go supernova.  Known for its red color, Betelgeuse is one of the few stars to be resolved by modern telescopes, although only barely.  The featured artist\\'s illustration imagines how Betelgeuse might look up close. Betelgeuse is thought to have a complex and tumultuous surface that frequently throws impressive flares.  Were it to replace the Sun (not recommended), its surface would extend out near the orbit of Jupiter, while gas plumes would bubble out past Neptune.  Since Betelgeuse is about 700 light years away, its eventual supernova will not endanger life on Earth even though its brightness may rival that of a full Moon.  Astronomers -- both amateur and professional -- will surely continue to monitor Betelgeuse as this new decade unfolds.    Free Presentation: APOD Editor to show best astronomy images of 2019 -- and the decade -- in NYC on January 3\",\"hdurl\":\"https://apod.nasa.gov/apod/image/2001/BetelgeuseImagined_EsoCalcada_2662.jpg\",\"media_type\":\"image\",\"service_version\":\"v1\",\"title\":\"Betelgeuse Imagined\",\"url\":\"https://apod.nasa.gov/apod/image/2001/BetelgeuseImagined_EsoCalcada_960.jpg\"}\\n'"
      ]
     },
     "execution_count": 5,
     "metadata": {},
     "output_type": "execute_result"
    }
   ],
   "source": [
    "res.content"
   ]
  },
  {
   "cell_type": "code",
   "execution_count": 94,
   "metadata": {},
   "outputs": [
    {
     "data": {
      "text/plain": [
       "'https://apod.nasa.gov/apod/image/2001/BetelgeuseImagined_EsoCalcada_2662.jpg'"
      ]
     },
     "execution_count": 94,
     "metadata": {},
     "output_type": "execute_result"
    }
   ],
   "source": [
    "data['hdurl']"
   ]
  },
  {
   "cell_type": "code",
   "execution_count": 10,
   "metadata": {},
   "outputs": [
    {
     "name": "stdout",
     "output_type": "stream",
     "text": [
      "BetelgeuseImagined_EsoCalcada_960.jpg\n"
     ]
    }
   ],
   "source": [
    "#res = requests.get(url=data['url'], timeout=10)\n",
    "#filename = parse_url(data['hdurl'].split('/')[-1]) # splittaa urlin /-kohdalta listaan, josta otetaan viimeinen indeksi = kuvannimi.jpg\n",
    "filename = Path(Path(parse_url(data['url']).path).name)\n",
    "print(filename)\n",
    "\n",
    "\n",
    "if res.ok:\n",
    "    with open(filename, 'wb') as f:\n",
    "        f.write(res.content)\n",
    "    "
   ]
  },
  {
   "cell_type": "markdown",
   "metadata": {},
   "source": [
    "Lataa 10 random kuvaa Nasa Api:sta ja tallenna ne muodossa 'kuvat/vuosi/kuukausi/päivä/kuva.jpg'\n",
    "Ohita videot "
   ]
  },
  {
   "cell_type": "code",
   "execution_count": null,
   "metadata": {},
   "outputs": [],
   "source": []
  }
 ],
 "metadata": {
  "interpreter": {
   "hash": "db407b77ed9766a8e964cb6d477995a882962ba8503591973b2db6c9195f06fb"
  },
  "kernelspec": {
   "display_name": "Python 3.9.11 ('venv': venv)",
   "language": "python",
   "name": "python3"
  },
  "language_info": {
   "codemirror_mode": {
    "name": "ipython",
    "version": 3
   },
   "file_extension": ".py",
   "mimetype": "text/x-python",
   "name": "python",
   "nbconvert_exporter": "python",
   "pygments_lexer": "ipython3",
   "version": "3.9.11"
  },
  "orig_nbformat": 4
 },
 "nbformat": 4,
 "nbformat_minor": 2
}

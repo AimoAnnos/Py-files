{
 "cells": [
  {
   "cell_type": "code",
   "execution_count": 5,
   "metadata": {},
   "outputs": [
    {
     "name": "stdout",
     "output_type": "stream",
     "text": [
      "1\n",
      "2\n",
      "3\n",
      "4\n",
      "5\n"
     ]
    }
   ],
   "source": [
    "# Generators\n",
    "\n",
    "# lista = [1,2,3,4,5]\n",
    "\n",
    "# for i in lista:\n",
    "#     print(i)\n",
    "\n",
    "def counter(n):\n",
    "    i = 0\n",
    "    while i<n:\n",
    "        yield i\n",
    "        i += 1"
   ]
  },
  {
   "cell_type": "code",
   "execution_count": 14,
   "metadata": {},
   "outputs": [
    {
     "name": "stdout",
     "output_type": "stream",
     "text": [
      "0\n",
      "1\n",
      "2\n",
      "3\n",
      "4\n",
      "5\n",
      "6\n",
      "7\n",
      "8\n",
      "9\n"
     ]
    }
   ],
   "source": [
    "for i in counter(10):\n",
    "    print(i)\n",
    "\n"
   ]
  },
  {
   "cell_type": "code",
   "execution_count": 25,
   "metadata": {},
   "outputs": [
    {
     "name": "stdout",
     "output_type": "stream",
     "text": [
      "Ennen\n",
      "Moi!\n",
      "Jälkeen\n",
      "wrapper\n"
     ]
    }
   ],
   "source": [
    "# Decorators\n",
    "\n",
    "# @app.route('/')\n",
    "# def hello():\n",
    "#     pass\n",
    "\n",
    "\n",
    "def decor(f):\n",
    "    def wrapper():\n",
    "        print('Ennen')\n",
    "        f()\n",
    "        print('Jälkeen')\n",
    "    return wrapper\n",
    "\n",
    "@decor\n",
    "def moi():\n",
    "    print('Moi!')\n",
    "\n",
    "\n",
    "moi()\n",
    "\n",
    "print(moi.__name__)"
   ]
  },
  {
   "cell_type": "code",
   "execution_count": 24,
   "metadata": {},
   "outputs": [
    {
     "data": {
      "text/plain": [
       "21"
      ]
     },
     "execution_count": 24,
     "metadata": {},
     "output_type": "execute_result"
    }
   ],
   "source": [
    "def summa(a,b, *args, **kwargs):  # ** hyväksyy x määrän parametrejä\n",
    "    s = a+b\n",
    "    for i in args:\n",
    "        s += i\n",
    "    for i in kwargs.values():\n",
    "        s += i\n",
    "    return s\n",
    "\n",
    "summa(2,3,4, bob=5, alice=7)\n",
    "\n",
    "# lista = [1,2,3,4,5]\n",
    "# first, *rest = lista\n",
    "# print(first)\n",
    "# print(rest)\n",
    "\n",
    "# a,b,*c = (1,2,3)  # * tekee listan\n",
    "# print(a)\n",
    "# print(b)\n",
    "# print(c)"
   ]
  }
 ],
 "metadata": {
  "interpreter": {
   "hash": "db407b77ed9766a8e964cb6d477995a882962ba8503591973b2db6c9195f06fb"
  },
  "kernelspec": {
   "display_name": "Python 3.9.11 ('venv': venv)",
   "language": "python",
   "name": "python3"
  },
  "language_info": {
   "codemirror_mode": {
    "name": "ipython",
    "version": 3
   },
   "file_extension": ".py",
   "mimetype": "text/x-python",
   "name": "python",
   "nbconvert_exporter": "python",
   "pygments_lexer": "ipython3",
   "version": "3.9.11"
  },
  "orig_nbformat": 4
 },
 "nbformat": 4,
 "nbformat_minor": 2
}

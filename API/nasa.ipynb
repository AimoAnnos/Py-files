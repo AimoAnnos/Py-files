{
 "cells": [
  {
   "cell_type": "code",
   "execution_count": 2,
   "metadata": {},
   "outputs": [],
   "source": [
    "import requests\n",
    "from decouple import config, AutoConfig\n",
    "config = AutoConfig(' ') # Vain, että toimii Jupyterilla\n",
    "from urllib3.util.url import parse_url\n",
    "from pathlib import Path"
   ]
  },
  {
   "cell_type": "code",
   "execution_count": 3,
   "metadata": {},
   "outputs": [],
   "source": [
    "\n",
    "API_KEY = config('API_KEY')\n",
    "API_URL = f'https://api.nasa.gov/planetary/apod'\n",
    "\n",
    "res = requests.get(url=API_URL, params={'api_key': API_KEY, 'date': '2022-01-01'}, timeout=10)\n",
    "if res.ok:\n",
    "    data = res.json()"
   ]
  },
  {
   "cell_type": "code",
   "execution_count": 7,
   "metadata": {},
   "outputs": [],
   "source": [
    "res = requests.get(url=data['url'], timeout=10)\n",
    "#filename = parse_url(data['url']).path.split('/')[-1]\n",
    "filename = Path(Path(parse_url(data['url']).path).name)\n",
    "\n",
    "if res.ok:\n",
    "    if filename.exists():\n",
    "        filename = Path(filename.stem + '2' + filename.suffix)\n",
    "    with open(filename, 'wb') as f:\n",
    "        f.write(res.content)\n"
   ]
  },
  {
   "cell_type": "code",
   "execution_count": 9,
   "metadata": {},
   "outputs": [
    {
     "data": {
      "text/plain": [
       "True"
      ]
     },
     "execution_count": 9,
     "metadata": {},
     "output_type": "execute_result"
    }
   ],
   "source": [
    "res.ok"
   ]
  },
  {
   "cell_type": "code",
   "execution_count": 23,
   "metadata": {},
   "outputs": [
    {
     "name": "stdout",
     "output_type": "stream",
     "text": [
      "2016-06-09\n",
      "1996-10-14\n",
      "1998-12-26\n",
      "2009-07-17\n",
      "2004-01-15\n",
      "1995-10-26\n",
      "2004-06-06\n",
      "2001-01-04\n",
      "2017-04-24\n",
      "2012-11-28\n"
     ]
    }
   ],
   "source": [
    "# Ladataan 10 random kuvaa\n",
    "res = requests.get(url=API_URL, params={'api_key': API_KEY, 'count': 10}, timeout=10)\n",
    "\n",
    "if res.ok:\n",
    "    data = res.json()\n",
    "    # data on nyt lista\n",
    "\n",
    "for i in data:\n",
    "    print(i['date'])"
   ]
  },
  {
   "cell_type": "markdown",
   "metadata": {},
   "source": [
    "Lataa 10 random kuvaa ja talenna niitä muodossa 'kuvat/vuosi/kuukausi/päivä_kuva.jpg'\n",
    "Ohita videot\n",
    "Ei tarvitse ladata uudelleen kuvia, jotka on jo ladattu aikaisemmin.\n",
    "\n",
    "Path docs: https://docs.python.org/3/library/pathlib.html"
   ]
  },
  {
   "cell_type": "code",
   "execution_count": 30,
   "metadata": {},
   "outputs": [
    {
     "data": {
      "text/plain": [
       "[{'date': '2016-06-09',\n",
       "  'explanation': \"The night side of Pluto spans this shadowy scene. The spacebased view with the Sun behind the distant world was captured by New Horizons last July. The spacecraft was at a range of over 21,000 kilometers, about 19 minutes after its closest approach. A denizen of the Kuiper Belt in dramatic silhouette, the image also reveals Pluto's tenuous, surprisingly complex layers of hazy atmosphere. The crescent twilight landscape near the top of the frame includes southern areas of nitrogen ice plains informally known as Sputnik Planum and rugged mountains of water-ice in the Norgay Montes.\",\n",
       "  'hdurl': 'https://apod.nasa.gov/apod/image/1606/PIA20727PlutoNight.jpg',\n",
       "  'media_type': 'image',\n",
       "  'service_version': 'v1',\n",
       "  'title': 'Pluto at Night',\n",
       "  'url': 'https://apod.nasa.gov/apod/image/1606/PIA20727PlutoNight1024c.jpg'},\n",
       " {'date': '1996-10-14',\n",
       "  'explanation': \"These two clusters of bright, newly formed stars surrounded by a glowing nebula lie 10 million light years away in the dim, irregular galaxy cataloged as NGC 2366. The Hubble Space Telescope image shows that the youngest cluster, the bottom one at about 2 million years old, is still surrounded by the gas and dust cloud it condensed from, while powerful stellar winds from the stars in the older cluster at the top (4-5 million years old), have begun to clear away its central areas giving the entire nebula an apparent hook shape. Compared to the sun, the stars in these clusters are massive and short lived. The brightest one, near the tip of the hook, is a rare Luminous Blue Variable with 30 to 60 times the mass of the sun - similar to the erruptive Eta Carina variable in our own Milky Way. Stars this massive are extremely variable. A comparison with ground based images indicates that in three years this star's brightness increased by about 40 times making it currently the brightest star in this dim galaxy. Studies of such distant and diverse galaxies yield clues to the relationships of star formation and galactic evolution.\",\n",
       "  'hdurl': 'https://apod.nasa.gov/apod/image/ngc2366_hst_big.gif',\n",
       "  'media_type': 'image',\n",
       "  'service_version': 'v1',\n",
       "  'title': 'Bright Stars, Dim Galaxy',\n",
       "  'url': 'https://apod.nasa.gov/apod/image/ngc2366_hst.gif'},\n",
       " {'date': '1998-12-26',\n",
       "  'explanation': \"The bright object in the center of the false color image above is quasar 3C279 viewed in gamma-rays, photons with more than 40 million times the energy of visible light. Like all quasars, 3C279 is a nondescript, faint, star-like object in the visible sky. Yet, in June of 1991 a gamma-ray telescope onboard NASA's orbiting Compton Gamma Ray Observatory unexpectedly discovered that it was one of the brightest objects in the gamma-ray sky. Shortly after this image was recorded the quasar faded from view at gamma-ray energies. Astronomers are still trying to understand what causes these enigmatic objects to flare so violently. Another quasar, 3C273, is faintly visible above and to the right of center.\",\n",
       "  'hdurl': 'https://apod.nasa.gov/apod/image/gamma_3c279_egret.gif',\n",
       "  'media_type': 'image',\n",
       "  'service_version': 'v1',\n",
       "  'title': 'Gamma-Ray Quasar',\n",
       "  'url': 'https://apod.nasa.gov/apod/image/gamma_3c279_egret.gif'},\n",
       " {'copyright': 'Marcin Paciorek',\n",
       "  'date': '2009-07-17',\n",
       "  'explanation': \"Beautiful island universe M94 lies a mere 15 million light-years distant in the northern constellation of the hunting dogs, Canes Venatici. A popular target for earth-based astronomers, the face-on spiral galaxy is about 30,000 light-years across. Its remarkable features include prominent dust lanes, a bright, point-like nucleus, and a bright, bluish ring dominated by the light of young, massive stars. The massive stars in the ring are all likely less than 10 million years old, indicating the galaxy experienced a well-defined era of rapid star formation. As a result, while the small, bright nucleus is typical of the Seyfert class of active galaxies, M94 is also known as a starburst galaxy. Because M94 is relatively nearby, astronomers can explore in detail reasons for the galaxy's burst of star formation.   digg_url ='http://apod.nasa.gov/apod/ap090717.html'; digg_skin = 'compact';\",\n",
       "  'hdurl': 'https://apod.nasa.gov/apod/image/0907/m94full_Paciorek.jpg',\n",
       "  'media_type': 'image',\n",
       "  'service_version': 'v1',\n",
       "  'title': 'Starburst Galaxy M94',\n",
       "  'url': 'https://apod.nasa.gov/apod/image/0907/m94crop_Paciorek.jpg'},\n",
       " {'copyright': 'Robert Gendler',\n",
       "  'date': '2004-01-15',\n",
       "  'explanation': \"Adrift 1,500 light-years away in one of the night sky's most recognizable constellations, the glowing Orion Nebula and the dark Horsehead Nebula are contrasting cosmic vistas. They both appear in this stunning composite digital image assembled from over 20 hours of data that includes exposures filtered to record emission from hydrogen atoms. The view reveals extensive nebulosities associated with the giant Orion Molecular Cloud complex, itself hundreds of light-years across. The magnificent emission region, the Orion Nebula (aka M42), lies at the upper right of the picture. Immediately to its left are a cluster of of prominent bluish reflection nebulae sometimes called the Running Man. The Horsehead nebula appears as a dark cloud, a small silhouette notched against the long red glow at the lower left. Alnitak is the easternmost star in Orion's belt and is seen as the brightest star to the left of the Horsehead. Below Alnitak is the Flame Nebula, with clouds of bright emission and dramatic dark dust lanes.  Fainter tendrils of glowing hydrogen gas are easily traced throughout the region in this Orion deep field.\",\n",
       "  'hdurl': 'https://apod.nasa.gov/apod/image/0401/OriondeepfieldM_gendler_full.jpg',\n",
       "  'media_type': 'image',\n",
       "  'service_version': 'v1',\n",
       "  'title': 'An Orion Deep Field',\n",
       "  'url': 'https://apod.nasa.gov/apod/image/0401/OriondeepfieldM_gendler_c2.jpg'},\n",
       " {'date': '1995-10-26',\n",
       "  'explanation': '',\n",
       "  'hdurl': 'https://apod.nasa.gov/apod/image/aurora_shuttletail.gif',\n",
       "  'media_type': 'image',\n",
       "  'service_version': 'v1',\n",
       "  'title': 'Aurora Astern',\n",
       "  'url': 'https://apod.nasa.gov/apod/image/aurora_shuttletail.gif'},\n",
       " {'date': '2004-06-06',\n",
       "  'explanation': \"Can you spot the planet? The diminutive disk of Mercury, the solar system's innermost planet, spent about five hours crossing in front of the enormous solar disk on 2003 May 7, as viewed from the general vicinity of planet Earth. The Sun was above the horizon during the entire transit for observers in Europe, Africa, Asia, or Australia, and the horizon was certainly no problem for the sun-staring SOHO spacecraft. Seen as a dark spot, Mercury progresses from left to right (top panel to bottom) in these four images from SOHO's extreme ultraviolet camera. The panels' false-colors correspond to different wavelengths in the extreme ultraviolet which highlight regions above the Sun's visible surface. This was the first of 14 transits of Mercury which will occur during the 21st century, but the next similar event will be a much more rare transit of Venus this coming Tuesday. Need help spotting Mercury? Just click on the picture.   News flash: Venus to cross the Sun on Tuesday\",\n",
       "  'hdurl': 'https://apod.nasa.gov/apod/image/0305/merctrans_sohoeit_4panlab.jpg',\n",
       "  'media_type': 'image',\n",
       "  'service_version': 'v1',\n",
       "  'title': 'Mercury Spotting',\n",
       "  'url': 'https://apod.nasa.gov/apod/image/0305/merctrans_sohoeit_4pan.jpg'},\n",
       " {'copyright': 'www.MrEclipse.com',\n",
       "  'date': '2001-01-04',\n",
       "  'explanation': \"The first eclipse of the third millennium is coming up! A total lunar eclipse mainly visible from Europe, Asia, and Africa, will occur on January 9th as the full Moon glides through the long, but not so dark shadow of planet Earth. Why not so dark? Sunlight is actually scattered and refracted into Earth's shadow by the atmosphere, a circumstance which can help create some striking photographs of the eclipsed Moon. For example, this image is a composite of photographs taken during the July 2000 total lunar eclipse. Early and late phases of the eclipse flank a deep exposure made during totality. The feeble sunlight still shining on the lunar surface gives the Moon a dramatic dark red cast. While the July 2000 eclipse was not the first or last of any millennium, it was remarkable for being the longest eclipse for about the next 1,000 years, totality lasting an impressive one hour and 47 minutes. Totality for the January 9th eclipse will last just over one hour.\",\n",
       "  'hdurl': 'https://apod.nasa.gov/apod/image/0101/leclipse_espenak.jpg',\n",
       "  'media_type': 'image',\n",
       "  'service_version': 'v1',\n",
       "  'title': 'Third Millennium, First Eclipse',\n",
       "  'url': 'https://apod.nasa.gov/apod/image/0101/leclipse_espenak.jpg'},\n",
       " {'date': '2017-04-24',\n",
       "  'explanation': \"Trillions have died in the Earth's seas. Calcified shields of the dead already make up the white cliffs of Dover. The battle between ball-shaped light-colored single-celled plants -- phytoplankton called coccolithophores -- and even smaller, diamond-shaped viruses dubbed coccolithoviruses -- has raged for tens of millions of years.  To help fight this battle, the coccolithophores create their chalky armor by absorbing carbon dioxide from the atmosphere.  This battle is so epic that coccolithophores actually remove a significant fraction of Earth's atmospheric carbon dioxide, bolstering the breathability of air for animals including humans. Pictured in this 2012 image from NASA's Aqua satellite, the Black Sea was turned light blue by coccolithophore blooms.    Explore the Universe: Random APOD Generator\",\n",
       "  'hdurl': 'https://apod.nasa.gov/apod/image/1704/blacksea_modis_6000.jpg',\n",
       "  'media_type': 'image',\n",
       "  'service_version': 'v1',\n",
       "  'title': 'A White Battle in the Black Sea',\n",
       "  'url': 'https://apod.nasa.gov/apod/image/1704/blacksea_modis_960.jpg'},\n",
       " {'copyright': 'Alessandro\\nBianconi',\n",
       "  'date': '2012-11-28',\n",
       "  'explanation': \"On December 3 (UT), Jupiter, the solar system's largest planet, will be at opposition, opposite the Sun in planet Earth's sky, shining brightly and rising as the Sun sets. That configuration results in Jupiter's almost annual closest approach to planet Earth. So, near opposition the gas giant offers earthbound telescopes stunning views of its stormy, banded atmosphere and large Galilean moons. For example, this sharp series was recorded on the night of November 16/17 from the island of Sardinia near Dolianova, Italy. North is up in the images that show off Jupiter's famous Great Red Spot, and planet girdling dark belts and light zones. Also seen in transit is Jupiter's volcanic moon Io, its round, dark shadow tracking across the Jovian cloud tops as the sequence progresses left to right.\",\n",
       "  'hdurl': 'https://apod.nasa.gov/apod/image/1211/JupIoBianconiCollage.png',\n",
       "  'media_type': 'image',\n",
       "  'service_version': 'v1',\n",
       "  'title': 'Jupiter and Io',\n",
       "  'url': 'https://apod.nasa.gov/apod/image/1211/JupIoBianconiCollage.jpg'}]"
      ]
     },
     "execution_count": 30,
     "metadata": {},
     "output_type": "execute_result"
    }
   ],
   "source": [
    "data"
   ]
  },
  {
   "cell_type": "code",
   "execution_count": 33,
   "metadata": {},
   "outputs": [
    {
     "ename": "TypeError",
     "evalue": "a bytes-like object is required, not 'dict'",
     "output_type": "error",
     "traceback": [
      "\u001b[1;31m---------------------------------------------------------------------------\u001b[0m",
      "\u001b[1;31mTypeError\u001b[0m                                 Traceback (most recent call last)",
      "Input \u001b[1;32mIn [33]\u001b[0m, in \u001b[0;36m<cell line: 1>\u001b[1;34m()\u001b[0m\n\u001b[0;32m      3\u001b[0m     filename \u001b[38;5;241m=\u001b[39m Path(filename\u001b[38;5;241m.\u001b[39mstem  \u001b[38;5;241m+\u001b[39m filename\u001b[38;5;241m.\u001b[39msuffix)\n\u001b[0;32m      4\u001b[0m \u001b[38;5;28;01mwith\u001b[39;00m \u001b[38;5;28mopen\u001b[39m(filename, \u001b[38;5;124m'\u001b[39m\u001b[38;5;124mwb\u001b[39m\u001b[38;5;124m'\u001b[39m) \u001b[38;5;28;01mas\u001b[39;00m f:\n\u001b[1;32m----> 5\u001b[0m     \u001b[43mf\u001b[49m\u001b[38;5;241;43m.\u001b[39;49m\u001b[43mwrite\u001b[49m\u001b[43m(\u001b[49m\u001b[43mdata\u001b[49m\u001b[43m[\u001b[49m\u001b[38;5;241;43m1\u001b[39;49m\u001b[43m]\u001b[49m\u001b[43m)\u001b[49m\n",
      "\u001b[1;31mTypeError\u001b[0m: a bytes-like object is required, not 'dict'"
     ]
    }
   ],
   "source": [
    "if res.ok:\n",
    "    if filename.exists():\n",
    "        filename = Path(filename.stem  + filename.suffix)\n",
    "    with open(filename, 'wb') as f:\n",
    "        f.write(data[1])"
   ]
  }
 ],
 "metadata": {
  "interpreter": {
   "hash": "2485da68d02cde90f5eb6d04bbec5c1b6ef5d2dafaf9b2337d2b07347a491bce"
  },
  "kernelspec": {
   "display_name": "Python 3.10.2 ('venv': venv)",
   "language": "python",
   "name": "python3"
  },
  "language_info": {
   "codemirror_mode": {
    "name": "ipython",
    "version": 3
   },
   "file_extension": ".py",
   "mimetype": "text/x-python",
   "name": "python",
   "nbconvert_exporter": "python",
   "pygments_lexer": "ipython3",
   "version": "3.9.11"
  },
  "orig_nbformat": 4
 },
 "nbformat": 4,
 "nbformat_minor": 2
}
